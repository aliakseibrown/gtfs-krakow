{
 "cells": [
  {
   "cell_type": "markdown",
   "metadata": {},
   "source": [
    "# Krakow Transport Network Analysis\n",
    "## Combining GTFS and OSM Data to Identify Critical Infrastructure\n",
    "\n",
    "---\n",
    "\n",
    "### Overview\n",
    "This notebook analyzes Krakow's transport network by combining:\n",
    "- **GTFS data**: Public transport schedules and routes\n",
    "- **OSM data**: Street network infrastructure\n",
    "\n",
    "We'll identify critical nodes using graph centrality metrics and visualize the integrated network."
   ]
  },
  {
   "cell_type": "code",
   "execution_count": 2,
   "metadata": {},
   "outputs": [],
   "source": [
    "# Import required libraries\n",
    "import os\n",
    "import pandas as pd\n",
    "import numpy as np\n",
    "import networkx as nx\n",
    "import osmnx as ox\n",
    "import geopandas as gpd\n",
    "import matplotlib.pyplot as plt\n",
    "import plotly.express as px\n",
    "import folium\n",
    "from folium.plugins import MarkerCluster\n",
    "from shapely.geometry import Point, LineString\n",
    "from scipy.spatial import cKDTree\n",
    "from matplotlib.colors import TwoSlopeNorm\n",
    "import plotly.graph_objects as go\n",
    "import zipfile\n",
    "\n",
    "\n",
    "# Configure OSMnx\n",
    "ox.settings.log_console = True\n",
    "ox.settings.use_cache = True\n",
    "ox.settings.timeout = 600\n",
    "\n",
    "# Check if the GTFS data directory exists, if not, extract from zip\n",
    "if not os.path.exists('gtfs'):\n",
    "    if os.path.exists('gtfs.zip'):\n",
    "        with zipfile.ZipFile('gtfs.zip', 'r') as zip_ref:\n",
    "            zip_ref.extractall('gtfs')\n",
    "        print(\"Extracted gtfs.zip to gtfs/\")\n",
    "    else:\n",
    "        print(\"gtfs.zip not found. Please provide the GTFS data.\")\n",
    "\n",
    "# Set the directory for saving analysis results\n",
    "RESULTS_DIR = 'results'\n",
    "GTFS_KRK_A = \"gtfs/GTFS_KRK_A\"\n",
    "\n",
    "GTFS_DIR = os.path.join(RESULTS_DIR, 'gtfs_graph')\n",
    "OSM_DIR = os.path.join(RESULTS_DIR, 'osm_graph')\n",
    "MERGED_DIR = os.path.join(RESULTS_DIR, 'merged_gtfs_osm')\n",
    "\n",
    "# Create directories if they do not exist\n",
    "if not os.path.exists(GTFS_DIR):\n",
    "    os.makedirs(GTFS_DIR)\n",
    "if not os.path.exists(OSM_DIR):\n",
    "    os.makedirs(OSM_DIR)\n",
    "if not os.path.exists(MERGED_DIR):\n",
    "    os.makedirs(MERGED_DIR)"
   ]
  },
  {
   "cell_type": "markdown",
   "metadata": {},
   "source": [
    "## 1. Load and Prepare GTFS Data"
   ]
  },
  {
   "cell_type": "code",
   "execution_count": 3,
   "metadata": {},
   "outputs": [
    {
     "name": "stdout",
     "output_type": "stream",
     "text": [
      "Loaded shapes.txt: 834851 rows\n",
      "Loaded stops.txt: 3010 rows\n",
      "Loaded trips.txt: 40368 rows\n",
      "Loaded routes.txt: 167 rows\n",
      "Loaded stop_times.txt: 882311 rows\n",
      "Loaded calendar.txt: 5 rows\n",
      "Loaded calendar_dates.txt: 8 rows\n"
     ]
    }
   ],
   "source": [
    "def load_gtfs(data_dir=GTFS_KRK_A):\n",
    "    \"\"\"Load and preprocess GTFS datasets\"\"\"\n",
    "    files = {\n",
    "        'shapes': 'shapes.txt',\n",
    "        'stops': 'stops.txt',\n",
    "        'trips': 'trips.txt',\n",
    "        'routes': 'routes.txt',\n",
    "        'stop_times': 'stop_times.txt',\n",
    "        'calendar': 'calendar.txt',\n",
    "        'calendar_dates': 'calendar_dates.txt'\n",
    "    }\n",
    "    \n",
    "    dfs = {}\n",
    "    for name, file in files.items():\n",
    "        try:\n",
    "            dfs[name] = pd.read_csv(f'{data_dir}/{file}')\n",
    "            print(f\"Loaded {file}: {dfs[name].shape[0]} rows\")\n",
    "        except FileNotFoundError:\n",
    "            print(f\"Warning: {file} not found\")\n",
    "    return dfs\n",
    "\n",
    "# Load data\n",
    "gtfs = load_gtfs()"
   ]
  },
  {
   "cell_type": "markdown",
   "metadata": {},
   "source": [
    "## 2. Analyze Transit Operations"
   ]
  },
  {
   "cell_type": "code",
   "execution_count": 36,
   "metadata": {},
   "outputs": [
    {
     "data": {
      "application/vnd.plotly.v1+json": {
       "config": {
        "plotlyServerURL": "https://plot.ly"
       },
       "data": [
        {
         "orientation": "h",
         "text": {
          "bdata": "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",
          "dtype": "f8"
         },
         "textposition": "outside",
         "type": "bar",
         "x": {
          "bdata": "dgBxACcAJwBQAFAAIgB+AEMAQwA1ADUANgA2AEQAQgBNAE0AtQC1ADkAOQA+AD4AYQBhAHsAgAA/AD8AMwAzAEIAQgA2ADsAYQBhADcANwCZAJkAKAArAFYAVgCxALEAfQGDAXsASQCMAIwAXgBgAJAAkABpAGkAFQEVARUBFQGCAIIAbwByAB4AGQAZABkAGQAeAB4AHgAMAAwADAAKAAwACgAMAAoAlgCWAB4AIwAEAAQAGQAZAAIAAgAiACIAcwB0AAQABABQAFAANgA2AAkBBAHJAMkAFQEYAdEA0QCQAJAAFwEcAWIAXwAkACQAjgAzADMABAAEAAQABAAIAQgBsAGrAaYAnwDHAMkAlQCdAN8A3wBcAFwAkwCTACoAKgA1ATUBCwAMAAoACgAKAAoAKAAoADMAMwBmAGYApwCnABIBFQFOAE4AtwC3AAUABQCOAI4APgA+ACgAKAACAQIBOQA5AEMAQwBfAF8AtAC0ABABFQEdARsBGAEaARUAFQAAAQABfgCBAJEAkQAXARwBAwEDARwBjgBUAFQAPAFEARoBHAECAQIBkwCWAMsByQEVARUB8ADwABQBFAEvACkAfgB+ALoAvACTAJMA6gDqAGYAaQAQABAAYABbADoAOgBCAEIA1ADPAHsAewAmACYARQBFAIoAigBRAFcAQgBFADAAMAA8ATwBdwB3ANcA1wDcANwAWQBZAFIAVwBGAEYAfwB/AD0AQQCqAKoAKQApADoAOgAqACoAZwBpAKcApwAqACoAdgB7AGEAYQBtAG0AXQBdAF0AYgAuAC4ApACkAH8AhAB9AIIAWwBbAH8AfwAYABgAcwBzAEQARAAvADAAOAA6ALYAtgBNAE0AcQB0AHYAdgA=",
          "dtype": "i2"
         },
         "y": [
          "route_100 - 0",
          "route_100 - 1",
          "route_101 - 0",
          "route_101 - 1",
          "route_103 - 0",
          "route_103 - 1",
          "route_104 - 0",
          "route_104 - 1",
          "route_105 - 0",
          "route_105 - 1",
          "route_106 - 0",
          "route_106 - 1",
          "route_107 - 0",
          "route_107 - 1",
          "route_108 - 0",
          "route_108 - 1",
          "route_109 - 0",
          "route_109 - 1",
          "route_11 - 0",
          "route_11 - 1",
          "route_110 - 0",
          "route_110 - 1",
          "route_111 - 0",
          "route_111 - 1",
          "route_112 - 0",
          "route_112 - 1",
          "route_113 - 0",
          "route_113 - 1",
          "route_114 - 0",
          "route_114 - 1",
          "route_115 - 0",
          "route_115 - 1",
          "route_116 - 0",
          "route_116 - 1",
          "route_117 - 0",
          "route_117 - 1",
          "route_118 - 0",
          "route_118 - 1",
          "route_119 - 0",
          "route_119 - 1",
          "route_120 - 0",
          "route_120 - 1",
          "route_121 - 0",
          "route_121 - 1",
          "route_124 - 0",
          "route_124 - 1",
          "route_125 - 0",
          "route_125 - 1",
          "route_126 - 0",
          "route_126 - 1",
          "route_127 - 0",
          "route_127 - 1",
          "route_128 - 0",
          "route_128 - 1",
          "route_129 - 0",
          "route_129 - 1",
          "route_130 - 0",
          "route_130 - 1",
          "route_133 - 0",
          "route_133 - 1",
          "route_135 - 0",
          "route_135 - 1",
          "route_136 - 0",
          "route_136 - 1",
          "route_137 - 0",
          "route_137 - 1",
          "route_138 - 0",
          "route_138 - 1",
          "route_139 - 0",
          "route_139 - 1",
          "route_140 - 0",
          "route_140 - 1",
          "route_141 - 0",
          "route_141 - 1",
          "route_142 - 0",
          "route_142 - 1",
          "route_143 - 0",
          "route_143 - 1",
          "route_147 - 0",
          "route_147 - 1",
          "route_148 - 0",
          "route_148 - 1",
          "route_149 - 0",
          "route_149 - 1",
          "route_15 - 0",
          "route_15 - 1",
          "route_151 - 0",
          "route_151 - 1",
          "route_152 - 0",
          "route_152 - 1",
          "route_153 - 0",
          "route_153 - 1",
          "route_154 - 0",
          "route_154 - 1",
          "route_157 - 0",
          "route_157 - 1",
          "route_16 - 0",
          "route_16 - 1",
          "route_162 - 0",
          "route_162 - 1",
          "route_163 - 0",
          "route_163 - 1",
          "route_164 - 0",
          "route_164 - 1",
          "route_165 - 0",
          "route_165 - 1",
          "route_166 - 0",
          "route_166 - 1",
          "route_169 - 0",
          "route_169 - 1",
          "route_17 - 0",
          "route_17 - 1",
          "route_18 - 0",
          "route_18 - 1",
          "route_19 - 0",
          "route_19 - 1",
          "route_196 - 0",
          "route_196 - 1",
          "route_197 - 0",
          "route_197 - 1",
          "route_199 - 0",
          "route_20 - 0",
          "route_20 - 1",
          "route_202 - 0",
          "route_202 - 1",
          "route_203 - 0",
          "route_203 - 1",
          "route_21 - 0",
          "route_21 - 1",
          "route_23 - 0",
          "route_23 - 1",
          "route_25 - 0",
          "route_25 - 1",
          "route_3 - 0",
          "route_3 - 1",
          "route_30 - 0",
          "route_30 - 1",
          "route_32 - 0",
          "route_32 - 1",
          "route_321 - 0",
          "route_321 - 1",
          "route_329 - 0",
          "route_329 - 1",
          "route_330 - 0",
          "route_330 - 1",
          "route_349 - 0",
          "route_349 - 1",
          "route_359 - 0",
          "route_359 - 1",
          "route_387 - 0",
          "route_387 - 1",
          "route_388 - 0",
          "route_388 - 1",
          "route_39 - 0",
          "route_39 - 1",
          "route_425 - 0",
          "route_425 - 1",
          "route_431 - 0",
          "route_431 - 1",
          "route_432 - 0",
          "route_432 - 1",
          "route_477 - 0",
          "route_477 - 1",
          "route_481 - 0",
          "route_481 - 1",
          "route_482 - 0",
          "route_482 - 1",
          "route_495 - 0",
          "route_495 - 1",
          "route_5 - 0",
          "route_5 - 1",
          "route_507 - 0",
          "route_507 - 1",
          "route_513 - 0",
          "route_513 - 1",
          "route_55 - 0",
          "route_55 - 1",
          "route_569 - 0",
          "route_569 - 1",
          "route_575 - 0",
          "route_575 - 1",
          "route_576 - 0",
          "route_576 - 1",
          "route_580 - 0",
          "route_580 - 1",
          "route_582 - 0",
          "route_582 - 1",
          "route_583 - 0",
          "route_583 - 1",
          "route_587 - 0",
          "route_587 - 1",
          "route_588 - 0",
          "route_588 - 1",
          "route_589 - 0",
          "route_589 - 1",
          "route_592 - 0",
          "route_592 - 1",
          "route_594 - 0",
          "route_594 - 1",
          "route_596 - 0",
          "route_596 - 1",
          "route_598 - 0",
          "route_598 - 1",
          "route_599 - 0",
          "route_599 - 1",
          "route_600 - 0",
          "route_600 - 1",
          "route_601 - 0",
          "route_601 - 1",
          "route_602 - 0",
          "route_602 - 1",
          "route_603 - 0",
          "route_603 - 1",
          "route_604 - 0",
          "route_604 - 1",
          "route_606 - 0",
          "route_606 - 1",
          "route_608 - 0",
          "route_608 - 1",
          "route_61 - 0",
          "route_61 - 1",
          "route_612 - 0",
          "route_612 - 1",
          "route_614 - 0",
          "route_614 - 1",
          "route_615 - 0",
          "route_615 - 1",
          "route_616 - 0",
          "route_616 - 1",
          "route_617 - 0",
          "route_617 - 1",
          "route_62 - 0",
          "route_62 - 1",
          "route_623 - 0",
          "route_623 - 1",
          "route_624 - 0",
          "route_624 - 1",
          "route_660 - 0",
          "route_661 - 0",
          "route_68 - 0",
          "route_68 - 1",
          "route_69 - 0",
          "route_69 - 1",
          "route_7 - 0",
          "route_7 - 1",
          "route_70 - 0",
          "route_70 - 1",
          "route_71 - 0",
          "route_71 - 1",
          "route_72 - 0",
          "route_72 - 1",
          "route_73 - 0",
          "route_73 - 1",
          "route_74 - 0",
          "route_74 - 1",
          "route_75 - 0",
          "route_75 - 1",
          "route_752 - 0",
          "route_752 - 1",
          "route_753 - 0",
          "route_753 - 1",
          "route_76 - 0",
          "route_76 - 1",
          "route_760 - 0",
          "route_760 - 1",
          "route_761 - 0",
          "route_761 - 1",
          "route_769 - 0",
          "route_769 - 1",
          "route_77 - 0",
          "route_77 - 1",
          "route_770 - 0",
          "route_770 - 1",
          "route_774 - 0",
          "route_774 - 1",
          "route_78 - 0",
          "route_78 - 1",
          "route_782 - 0",
          "route_782 - 1",
          "route_79 - 0",
          "route_79 - 1",
          "route_80 - 0",
          "route_80 - 1",
          "route_81 - 0",
          "route_81 - 1",
          "route_82 - 0",
          "route_82 - 1",
          "route_821 - 0",
          "route_821 - 1",
          "route_822 - 0",
          "route_822 - 1",
          "route_84 - 0",
          "route_84 - 1",
          "route_846 - 0",
          "route_846 - 1",
          "route_85 - 0",
          "route_85 - 1",
          "route_86 - 0",
          "route_86 - 1",
          "route_864 - 0",
          "route_864 - 1",
          "route_87 - 0",
          "route_87 - 1",
          "route_872 - 0",
          "route_872 - 1",
          "route_873 - 0",
          "route_873 - 1",
          "route_88 - 0",
          "route_88 - 1",
          "route_89 - 0",
          "route_89 - 1",
          "route_91 - 0",
          "route_91 - 1",
          "route_912 - 0",
          "route_912 - 1",
          "route_92 - 0",
          "route_92 - 1",
          "route_93 - 0",
          "route_93 - 1",
          "route_94 - 0",
          "route_94 - 1",
          "route_95 - 0",
          "route_95 - 1",
          "route_96 - 0",
          "route_96 - 1",
          "route_97 - 0",
          "route_97 - 1",
          "route_98 - 0",
          "route_98 - 1",
          "route_99 - 0",
          "route_99 - 1"
         ]
        }
       ],
       "layout": {
        "height": 800,
        "template": {
         "data": {
          "bar": [
           {
            "error_x": {
             "color": "#2a3f5f"
            },
            "error_y": {
             "color": "#2a3f5f"
            },
            "marker": {
             "line": {
              "color": "#E5ECF6",
              "width": 0.5
             },
             "pattern": {
              "fillmode": "overlay",
              "size": 10,
              "solidity": 0.2
             }
            },
            "type": "bar"
           }
          ],
          "barpolar": [
           {
            "marker": {
             "line": {
              "color": "#E5ECF6",
              "width": 0.5
             },
             "pattern": {
              "fillmode": "overlay",
              "size": 10,
              "solidity": 0.2
             }
            },
            "type": "barpolar"
           }
          ],
          "carpet": [
           {
            "aaxis": {
             "endlinecolor": "#2a3f5f",
             "gridcolor": "white",
             "linecolor": "white",
             "minorgridcolor": "white",
             "startlinecolor": "#2a3f5f"
            },
            "baxis": {
             "endlinecolor": "#2a3f5f",
             "gridcolor": "white",
             "linecolor": "white",
             "minorgridcolor": "white",
             "startlinecolor": "#2a3f5f"
            },
            "type": "carpet"
           }
          ],
          "choropleth": [
           {
            "colorbar": {
             "outlinewidth": 0,
             "ticks": ""
            },
            "type": "choropleth"
           }
          ],
          "contour": [
           {
            "colorbar": {
             "outlinewidth": 0,
             "ticks": ""
            },
            "colorscale": [
             [
              0,
              "#0d0887"
             ],
             [
              0.1111111111111111,
              "#46039f"
             ],
             [
              0.2222222222222222,
              "#7201a8"
             ],
             [
              0.3333333333333333,
              "#9c179e"
             ],
             [
              0.4444444444444444,
              "#bd3786"
             ],
             [
              0.5555555555555556,
              "#d8576b"
             ],
             [
              0.6666666666666666,
              "#ed7953"
             ],
             [
              0.7777777777777778,
              "#fb9f3a"
             ],
             [
              0.8888888888888888,
              "#fdca26"
             ],
             [
              1,
              "#f0f921"
             ]
            ],
            "type": "contour"
           }
          ],
          "contourcarpet": [
           {
            "colorbar": {
             "outlinewidth": 0,
             "ticks": ""
            },
            "type": "contourcarpet"
           }
          ],
          "heatmap": [
           {
            "colorbar": {
             "outlinewidth": 0,
             "ticks": ""
            },
            "colorscale": [
             [
              0,
              "#0d0887"
             ],
             [
              0.1111111111111111,
              "#46039f"
             ],
             [
              0.2222222222222222,
              "#7201a8"
             ],
             [
              0.3333333333333333,
              "#9c179e"
             ],
             [
              0.4444444444444444,
              "#bd3786"
             ],
             [
              0.5555555555555556,
              "#d8576b"
             ],
             [
              0.6666666666666666,
              "#ed7953"
             ],
             [
              0.7777777777777778,
              "#fb9f3a"
             ],
             [
              0.8888888888888888,
              "#fdca26"
             ],
             [
              1,
              "#f0f921"
             ]
            ],
            "type": "heatmap"
           }
          ],
          "histogram": [
           {
            "marker": {
             "pattern": {
              "fillmode": "overlay",
              "size": 10,
              "solidity": 0.2
             }
            },
            "type": "histogram"
           }
          ],
          "histogram2d": [
           {
            "colorbar": {
             "outlinewidth": 0,
             "ticks": ""
            },
            "colorscale": [
             [
              0,
              "#0d0887"
             ],
             [
              0.1111111111111111,
              "#46039f"
             ],
             [
              0.2222222222222222,
              "#7201a8"
             ],
             [
              0.3333333333333333,
              "#9c179e"
             ],
             [
              0.4444444444444444,
              "#bd3786"
             ],
             [
              0.5555555555555556,
              "#d8576b"
             ],
             [
              0.6666666666666666,
              "#ed7953"
             ],
             [
              0.7777777777777778,
              "#fb9f3a"
             ],
             [
              0.8888888888888888,
              "#fdca26"
             ],
             [
              1,
              "#f0f921"
             ]
            ],
            "type": "histogram2d"
           }
          ],
          "histogram2dcontour": [
           {
            "colorbar": {
             "outlinewidth": 0,
             "ticks": ""
            },
            "colorscale": [
             [
              0,
              "#0d0887"
             ],
             [
              0.1111111111111111,
              "#46039f"
             ],
             [
              0.2222222222222222,
              "#7201a8"
             ],
             [
              0.3333333333333333,
              "#9c179e"
             ],
             [
              0.4444444444444444,
              "#bd3786"
             ],
             [
              0.5555555555555556,
              "#d8576b"
             ],
             [
              0.6666666666666666,
              "#ed7953"
             ],
             [
              0.7777777777777778,
              "#fb9f3a"
             ],
             [
              0.8888888888888888,
              "#fdca26"
             ],
             [
              1,
              "#f0f921"
             ]
            ],
            "type": "histogram2dcontour"
           }
          ],
          "mesh3d": [
           {
            "colorbar": {
             "outlinewidth": 0,
             "ticks": ""
            },
            "type": "mesh3d"
           }
          ],
          "parcoords": [
           {
            "line": {
             "colorbar": {
              "outlinewidth": 0,
              "ticks": ""
             }
            },
            "type": "parcoords"
           }
          ],
          "pie": [
           {
            "automargin": true,
            "type": "pie"
           }
          ],
          "scatter": [
           {
            "fillpattern": {
             "fillmode": "overlay",
             "size": 10,
             "solidity": 0.2
            },
            "type": "scatter"
           }
          ],
          "scatter3d": [
           {
            "line": {
             "colorbar": {
              "outlinewidth": 0,
              "ticks": ""
             }
            },
            "marker": {
             "colorbar": {
              "outlinewidth": 0,
              "ticks": ""
             }
            },
            "type": "scatter3d"
           }
          ],
          "scattercarpet": [
           {
            "marker": {
             "colorbar": {
              "outlinewidth": 0,
              "ticks": ""
             }
            },
            "type": "scattercarpet"
           }
          ],
          "scattergeo": [
           {
            "marker": {
             "colorbar": {
              "outlinewidth": 0,
              "ticks": ""
             }
            },
            "type": "scattergeo"
           }
          ],
          "scattergl": [
           {
            "marker": {
             "colorbar": {
              "outlinewidth": 0,
              "ticks": ""
             }
            },
            "type": "scattergl"
           }
          ],
          "scattermap": [
           {
            "marker": {
             "colorbar": {
              "outlinewidth": 0,
              "ticks": ""
             }
            },
            "type": "scattermap"
           }
          ],
          "scattermapbox": [
           {
            "marker": {
             "colorbar": {
              "outlinewidth": 0,
              "ticks": ""
             }
            },
            "type": "scattermapbox"
           }
          ],
          "scatterpolar": [
           {
            "marker": {
             "colorbar": {
              "outlinewidth": 0,
              "ticks": ""
             }
            },
            "type": "scatterpolar"
           }
          ],
          "scatterpolargl": [
           {
            "marker": {
             "colorbar": {
              "outlinewidth": 0,
              "ticks": ""
             }
            },
            "type": "scatterpolargl"
           }
          ],
          "scatterternary": [
           {
            "marker": {
             "colorbar": {
              "outlinewidth": 0,
              "ticks": ""
             }
            },
            "type": "scatterternary"
           }
          ],
          "surface": [
           {
            "colorbar": {
             "outlinewidth": 0,
             "ticks": ""
            },
            "colorscale": [
             [
              0,
              "#0d0887"
             ],
             [
              0.1111111111111111,
              "#46039f"
             ],
             [
              0.2222222222222222,
              "#7201a8"
             ],
             [
              0.3333333333333333,
              "#9c179e"
             ],
             [
              0.4444444444444444,
              "#bd3786"
             ],
             [
              0.5555555555555556,
              "#d8576b"
             ],
             [
              0.6666666666666666,
              "#ed7953"
             ],
             [
              0.7777777777777778,
              "#fb9f3a"
             ],
             [
              0.8888888888888888,
              "#fdca26"
             ],
             [
              1,
              "#f0f921"
             ]
            ],
            "type": "surface"
           }
          ],
          "table": [
           {
            "cells": {
             "fill": {
              "color": "#EBF0F8"
             },
             "line": {
              "color": "white"
             }
            },
            "header": {
             "fill": {
              "color": "#C8D4E3"
             },
             "line": {
              "color": "white"
             }
            },
            "type": "table"
           }
          ]
         },
         "layout": {
          "annotationdefaults": {
           "arrowcolor": "#2a3f5f",
           "arrowhead": 0,
           "arrowwidth": 1
          },
          "autotypenumbers": "strict",
          "coloraxis": {
           "colorbar": {
            "outlinewidth": 0,
            "ticks": ""
           }
          },
          "colorscale": {
           "diverging": [
            [
             0,
             "#8e0152"
            ],
            [
             0.1,
             "#c51b7d"
            ],
            [
             0.2,
             "#de77ae"
            ],
            [
             0.3,
             "#f1b6da"
            ],
            [
             0.4,
             "#fde0ef"
            ],
            [
             0.5,
             "#f7f7f7"
            ],
            [
             0.6,
             "#e6f5d0"
            ],
            [
             0.7,
             "#b8e186"
            ],
            [
             0.8,
             "#7fbc41"
            ],
            [
             0.9,
             "#4d9221"
            ],
            [
             1,
             "#276419"
            ]
           ],
           "sequential": [
            [
             0,
             "#0d0887"
            ],
            [
             0.1111111111111111,
             "#46039f"
            ],
            [
             0.2222222222222222,
             "#7201a8"
            ],
            [
             0.3333333333333333,
             "#9c179e"
            ],
            [
             0.4444444444444444,
             "#bd3786"
            ],
            [
             0.5555555555555556,
             "#d8576b"
            ],
            [
             0.6666666666666666,
             "#ed7953"
            ],
            [
             0.7777777777777778,
             "#fb9f3a"
            ],
            [
             0.8888888888888888,
             "#fdca26"
            ],
            [
             1,
             "#f0f921"
            ]
           ],
           "sequentialminus": [
            [
             0,
             "#0d0887"
            ],
            [
             0.1111111111111111,
             "#46039f"
            ],
            [
             0.2222222222222222,
             "#7201a8"
            ],
            [
             0.3333333333333333,
             "#9c179e"
            ],
            [
             0.4444444444444444,
             "#bd3786"
            ],
            [
             0.5555555555555556,
             "#d8576b"
            ],
            [
             0.6666666666666666,
             "#ed7953"
            ],
            [
             0.7777777777777778,
             "#fb9f3a"
            ],
            [
             0.8888888888888888,
             "#fdca26"
            ],
            [
             1,
             "#f0f921"
            ]
           ]
          },
          "colorway": [
           "#636efa",
           "#EF553B",
           "#00cc96",
           "#ab63fa",
           "#FFA15A",
           "#19d3f3",
           "#FF6692",
           "#B6E880",
           "#FF97FF",
           "#FECB52"
          ],
          "font": {
           "color": "#2a3f5f"
          },
          "geo": {
           "bgcolor": "white",
           "lakecolor": "white",
           "landcolor": "#E5ECF6",
           "showlakes": true,
           "showland": true,
           "subunitcolor": "white"
          },
          "hoverlabel": {
           "align": "left"
          },
          "hovermode": "closest",
          "mapbox": {
           "style": "light"
          },
          "paper_bgcolor": "white",
          "plot_bgcolor": "#E5ECF6",
          "polar": {
           "angularaxis": {
            "gridcolor": "white",
            "linecolor": "white",
            "ticks": ""
           },
           "bgcolor": "#E5ECF6",
           "radialaxis": {
            "gridcolor": "white",
            "linecolor": "white",
            "ticks": ""
           }
          },
          "scene": {
           "xaxis": {
            "backgroundcolor": "#E5ECF6",
            "gridcolor": "white",
            "gridwidth": 2,
            "linecolor": "white",
            "showbackground": true,
            "ticks": "",
            "zerolinecolor": "white"
           },
           "yaxis": {
            "backgroundcolor": "#E5ECF6",
            "gridcolor": "white",
            "gridwidth": 2,
            "linecolor": "white",
            "showbackground": true,
            "ticks": "",
            "zerolinecolor": "white"
           },
           "zaxis": {
            "backgroundcolor": "#E5ECF6",
            "gridcolor": "white",
            "gridwidth": 2,
            "linecolor": "white",
            "showbackground": true,
            "ticks": "",
            "zerolinecolor": "white"
           }
          },
          "shapedefaults": {
           "line": {
            "color": "#2a3f5f"
           }
          },
          "ternary": {
           "aaxis": {
            "gridcolor": "white",
            "linecolor": "white",
            "ticks": ""
           },
           "baxis": {
            "gridcolor": "white",
            "linecolor": "white",
            "ticks": ""
           },
           "bgcolor": "#E5ECF6",
           "caxis": {
            "gridcolor": "white",
            "linecolor": "white",
            "ticks": ""
           }
          },
          "title": {
           "x": 0.05
          },
          "xaxis": {
           "automargin": true,
           "gridcolor": "white",
           "linecolor": "white",
           "ticks": "",
           "title": {
            "standoff": 15
           },
           "zerolinecolor": "white",
           "zerolinewidth": 2
          },
          "yaxis": {
           "automargin": true,
           "gridcolor": "white",
           "linecolor": "white",
           "ticks": "",
           "title": {
            "standoff": 15
           },
           "zerolinecolor": "white",
           "zerolinewidth": 2
          }
         }
        },
        "title": {
         "text": "Number of Trips per Route and Direction"
        },
        "xaxis": {
         "title": {
          "text": "Number of Trips"
         }
        },
        "yaxis": {
         "categoryorder": "total ascending",
         "title": {
          "text": "Route - Direction"
         }
        }
       }
      }
     },
     "metadata": {},
     "output_type": "display_data"
    }
   ],
   "source": [
    "def analyze_transit_operations(trips_df):\n",
    "    \"\"\"Analyze number of trips per route and direction\"\"\"\n",
    "    # Count trips per route and direction\n",
    "    counts = trips_df.groupby(['route_id', 'direction_id'])['trip_id'].count().reset_index()\n",
    "    counts['route_direction'] = counts['route_id'].astype(str) + ' - ' + counts['direction_id'].astype(str)\n",
    "    \n",
    "    # Create interactive bar chart\n",
    "    fig = go.Figure()\n",
    "    fig.add_trace(go.Bar(\n",
    "        x=counts['trip_id'], \n",
    "        y=counts['route_direction'], \n",
    "        orientation='h', \n",
    "        text=counts['trip_id'],\n",
    "        textposition='outside'\n",
    "    ))\n",
    "    \n",
    "    fig.update_layout(\n",
    "        title='Number of Trips per Route and Direction',\n",
    "        xaxis_title='Number of Trips',\n",
    "        yaxis_title='Route - Direction',\n",
    "        yaxis={'categoryorder': 'total ascending'},\n",
    "        height=800\n",
    "    )\n",
    "    fig.write_html(os.path.join(GTFS_DIR, 'trips_per_route_direction.html'))\n",
    "    fig.show()\n",
    "    return counts\n",
    "\n",
    "# Analyze transit operations\n",
    "trip_counts = analyze_transit_operations(gtfs['trips'])"
   ]
  },
  {
   "cell_type": "markdown",
   "metadata": {},
   "source": [
    "## 3. Preprocess Route Shapes"
   ]
  },
  {
   "cell_type": "code",
   "execution_count": 5,
   "metadata": {},
   "outputs": [],
   "source": [
    "def preprocess_shapes(shapes_df):\n",
    "    \"\"\"Convert shape points into segments\"\"\"\n",
    "    # Create segments between consecutive shape points\n",
    "    coords = shapes_df[[\"shape_pt_lat\", \"shape_pt_lon\", \"shape_pt_sequence\"]]\n",
    "    coords_roll_1 = np.roll(coords, 1, axis=0)\n",
    "    \n",
    "    segments = pd.DataFrame(\n",
    "        np.concatenate([coords_roll_1, coords], axis=1),\n",
    "        columns=[\"start_lat\", \"start_lng\", \"start_seq\", \"end_lat\", \"end_lng\", \"end_seq\"]\n",
    "    )\n",
    "    \n",
    "    segments_df = shapes_df[[\"shape_id\"]].join(segments)\n",
    "    segments_df = segments_df[segments_df.end_seq != 1]  # Remove artificial segments\n",
    "    segments_df = segments_df.drop(columns=['end_seq']).rename(columns={\"start_seq\": \"seq\"})\n",
    "    \n",
    "    return segments_df\n",
    "\n",
    "# Preprocess shapes\n",
    "segments_df = preprocess_shapes(gtfs['shapes'])"
   ]
  },
  {
   "cell_type": "markdown",
   "metadata": {},
   "source": [
    "## 4. Calculate Segment Utilization"
   ]
  },
  {
   "cell_type": "markdown",
   "metadata": {},
   "source": [
    "- **shape_per_day**: Counts the number of trips per shape (route pattern).\n",
    "- **segment_per_day**: Merges this count onto every segment belonging to that shape, so every segment in a shape gets the total trip count for that shape.\n",
    "- **segment_day_trips**: Groups by segment coordinates and sums the trip counts.\n",
    "\n",
    "If a segment appears in multiple shapes, its trip counts are summed across all shapes it appears in.\n"
   ]
  },
  {
   "cell_type": "code",
   "execution_count": 46,
   "metadata": {},
   "outputs": [
    {
     "data": {
      "application/vnd.plotly.v1+json": {
       "config": {
        "plotlyServerURL": "https://plot.ly"
       },
       "data": [
        {
         "bingroup": "x",
         "hovertemplate": "Number of Daily Trips=%{x}<br>count=%{y}<extra></extra>",
         "legendgroup": "",
         "marker": {
          "color": "#636efa",
          "opacity": 0.8,
          "pattern": {
           "shape": ""
          }
         },
         "name": "",
         "nbinsx": 50,
         "orientation": "v",
         "showlegend": false,
         "type": "histogram",
         "x": {
          "bdata": "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",
          "dtype": "i2"
         },
         "xaxis": "x",
         "yaxis": "y"
        }
       ],
       "layout": {
        "bargap": 0.1,
        "barmode": "relative",
        "height": 500,
        "legend": {
         "tracegroupgap": 0
        },
        "template": {
         "data": {
          "bar": [
           {
            "error_x": {
             "color": "#2a3f5f"
            },
            "error_y": {
             "color": "#2a3f5f"
            },
            "marker": {
             "line": {
              "color": "#E5ECF6",
              "width": 0.5
             },
             "pattern": {
              "fillmode": "overlay",
              "size": 10,
              "solidity": 0.2
             }
            },
            "type": "bar"
           }
          ],
          "barpolar": [
           {
            "marker": {
             "line": {
              "color": "#E5ECF6",
              "width": 0.5
             },
             "pattern": {
              "fillmode": "overlay",
              "size": 10,
              "solidity": 0.2
             }
            },
            "type": "barpolar"
           }
          ],
          "carpet": [
           {
            "aaxis": {
             "endlinecolor": "#2a3f5f",
             "gridcolor": "white",
             "linecolor": "white",
             "minorgridcolor": "white",
             "startlinecolor": "#2a3f5f"
            },
            "baxis": {
             "endlinecolor": "#2a3f5f",
             "gridcolor": "white",
             "linecolor": "white",
             "minorgridcolor": "white",
             "startlinecolor": "#2a3f5f"
            },
            "type": "carpet"
           }
          ],
          "choropleth": [
           {
            "colorbar": {
             "outlinewidth": 0,
             "ticks": ""
            },
            "type": "choropleth"
           }
          ],
          "contour": [
           {
            "colorbar": {
             "outlinewidth": 0,
             "ticks": ""
            },
            "colorscale": [
             [
              0,
              "#0d0887"
             ],
             [
              0.1111111111111111,
              "#46039f"
             ],
             [
              0.2222222222222222,
              "#7201a8"
             ],
             [
              0.3333333333333333,
              "#9c179e"
             ],
             [
              0.4444444444444444,
              "#bd3786"
             ],
             [
              0.5555555555555556,
              "#d8576b"
             ],
             [
              0.6666666666666666,
              "#ed7953"
             ],
             [
              0.7777777777777778,
              "#fb9f3a"
             ],
             [
              0.8888888888888888,
              "#fdca26"
             ],
             [
              1,
              "#f0f921"
             ]
            ],
            "type": "contour"
           }
          ],
          "contourcarpet": [
           {
            "colorbar": {
             "outlinewidth": 0,
             "ticks": ""
            },
            "type": "contourcarpet"
           }
          ],
          "heatmap": [
           {
            "colorbar": {
             "outlinewidth": 0,
             "ticks": ""
            },
            "colorscale": [
             [
              0,
              "#0d0887"
             ],
             [
              0.1111111111111111,
              "#46039f"
             ],
             [
              0.2222222222222222,
              "#7201a8"
             ],
             [
              0.3333333333333333,
              "#9c179e"
             ],
             [
              0.4444444444444444,
              "#bd3786"
             ],
             [
              0.5555555555555556,
              "#d8576b"
             ],
             [
              0.6666666666666666,
              "#ed7953"
             ],
             [
              0.7777777777777778,
              "#fb9f3a"
             ],
             [
              0.8888888888888888,
              "#fdca26"
             ],
             [
              1,
              "#f0f921"
             ]
            ],
            "type": "heatmap"
           }
          ],
          "histogram": [
           {
            "marker": {
             "pattern": {
              "fillmode": "overlay",
              "size": 10,
              "solidity": 0.2
             }
            },
            "type": "histogram"
           }
          ],
          "histogram2d": [
           {
            "colorbar": {
             "outlinewidth": 0,
             "ticks": ""
            },
            "colorscale": [
             [
              0,
              "#0d0887"
             ],
             [
              0.1111111111111111,
              "#46039f"
             ],
             [
              0.2222222222222222,
              "#7201a8"
             ],
             [
              0.3333333333333333,
              "#9c179e"
             ],
             [
              0.4444444444444444,
              "#bd3786"
             ],
             [
              0.5555555555555556,
              "#d8576b"
             ],
             [
              0.6666666666666666,
              "#ed7953"
             ],
             [
              0.7777777777777778,
              "#fb9f3a"
             ],
             [
              0.8888888888888888,
              "#fdca26"
             ],
             [
              1,
              "#f0f921"
             ]
            ],
            "type": "histogram2d"
           }
          ],
          "histogram2dcontour": [
           {
            "colorbar": {
             "outlinewidth": 0,
             "ticks": ""
            },
            "colorscale": [
             [
              0,
              "#0d0887"
             ],
             [
              0.1111111111111111,
              "#46039f"
             ],
             [
              0.2222222222222222,
              "#7201a8"
             ],
             [
              0.3333333333333333,
              "#9c179e"
             ],
             [
              0.4444444444444444,
              "#bd3786"
             ],
             [
              0.5555555555555556,
              "#d8576b"
             ],
             [
              0.6666666666666666,
              "#ed7953"
             ],
             [
              0.7777777777777778,
              "#fb9f3a"
             ],
             [
              0.8888888888888888,
              "#fdca26"
             ],
             [
              1,
              "#f0f921"
             ]
            ],
            "type": "histogram2dcontour"
           }
          ],
          "mesh3d": [
           {
            "colorbar": {
             "outlinewidth": 0,
             "ticks": ""
            },
            "type": "mesh3d"
           }
          ],
          "parcoords": [
           {
            "line": {
             "colorbar": {
              "outlinewidth": 0,
              "ticks": ""
             }
            },
            "type": "parcoords"
           }
          ],
          "pie": [
           {
            "automargin": true,
            "type": "pie"
           }
          ],
          "scatter": [
           {
            "fillpattern": {
             "fillmode": "overlay",
             "size": 10,
             "solidity": 0.2
            },
            "type": "scatter"
           }
          ],
          "scatter3d": [
           {
            "line": {
             "colorbar": {
              "outlinewidth": 0,
              "ticks": ""
             }
            },
            "marker": {
             "colorbar": {
              "outlinewidth": 0,
              "ticks": ""
             }
            },
            "type": "scatter3d"
           }
          ],
          "scattercarpet": [
           {
            "marker": {
             "colorbar": {
              "outlinewidth": 0,
              "ticks": ""
             }
            },
            "type": "scattercarpet"
           }
          ],
          "scattergeo": [
           {
            "marker": {
             "colorbar": {
              "outlinewidth": 0,
              "ticks": ""
             }
            },
            "type": "scattergeo"
           }
          ],
          "scattergl": [
           {
            "marker": {
             "colorbar": {
              "outlinewidth": 0,
              "ticks": ""
             }
            },
            "type": "scattergl"
           }
          ],
          "scattermap": [
           {
            "marker": {
             "colorbar": {
              "outlinewidth": 0,
              "ticks": ""
             }
            },
            "type": "scattermap"
           }
          ],
          "scattermapbox": [
           {
            "marker": {
             "colorbar": {
              "outlinewidth": 0,
              "ticks": ""
             }
            },
            "type": "scattermapbox"
           }
          ],
          "scatterpolar": [
           {
            "marker": {
             "colorbar": {
              "outlinewidth": 0,
              "ticks": ""
             }
            },
            "type": "scatterpolar"
           }
          ],
          "scatterpolargl": [
           {
            "marker": {
             "colorbar": {
              "outlinewidth": 0,
              "ticks": ""
             }
            },
            "type": "scatterpolargl"
           }
          ],
          "scatterternary": [
           {
            "marker": {
             "colorbar": {
              "outlinewidth": 0,
              "ticks": ""
             }
            },
            "type": "scatterternary"
           }
          ],
          "surface": [
           {
            "colorbar": {
             "outlinewidth": 0,
             "ticks": ""
            },
            "colorscale": [
             [
              0,
              "#0d0887"
             ],
             [
              0.1111111111111111,
              "#46039f"
             ],
             [
              0.2222222222222222,
              "#7201a8"
             ],
             [
              0.3333333333333333,
              "#9c179e"
             ],
             [
              0.4444444444444444,
              "#bd3786"
             ],
             [
              0.5555555555555556,
              "#d8576b"
             ],
             [
              0.6666666666666666,
              "#ed7953"
             ],
             [
              0.7777777777777778,
              "#fb9f3a"
             ],
             [
              0.8888888888888888,
              "#fdca26"
             ],
             [
              1,
              "#f0f921"
             ]
            ],
            "type": "surface"
           }
          ],
          "table": [
           {
            "cells": {
             "fill": {
              "color": "#EBF0F8"
             },
             "line": {
              "color": "white"
             }
            },
            "header": {
             "fill": {
              "color": "#C8D4E3"
             },
             "line": {
              "color": "white"
             }
            },
            "type": "table"
           }
          ]
         },
         "layout": {
          "annotationdefaults": {
           "arrowcolor": "#2a3f5f",
           "arrowhead": 0,
           "arrowwidth": 1
          },
          "autotypenumbers": "strict",
          "coloraxis": {
           "colorbar": {
            "outlinewidth": 0,
            "ticks": ""
           }
          },
          "colorscale": {
           "diverging": [
            [
             0,
             "#8e0152"
            ],
            [
             0.1,
             "#c51b7d"
            ],
            [
             0.2,
             "#de77ae"
            ],
            [
             0.3,
             "#f1b6da"
            ],
            [
             0.4,
             "#fde0ef"
            ],
            [
             0.5,
             "#f7f7f7"
            ],
            [
             0.6,
             "#e6f5d0"
            ],
            [
             0.7,
             "#b8e186"
            ],
            [
             0.8,
             "#7fbc41"
            ],
            [
             0.9,
             "#4d9221"
            ],
            [
             1,
             "#276419"
            ]
           ],
           "sequential": [
            [
             0,
             "#0d0887"
            ],
            [
             0.1111111111111111,
             "#46039f"
            ],
            [
             0.2222222222222222,
             "#7201a8"
            ],
            [
             0.3333333333333333,
             "#9c179e"
            ],
            [
             0.4444444444444444,
             "#bd3786"
            ],
            [
             0.5555555555555556,
             "#d8576b"
            ],
            [
             0.6666666666666666,
             "#ed7953"
            ],
            [
             0.7777777777777778,
             "#fb9f3a"
            ],
            [
             0.8888888888888888,
             "#fdca26"
            ],
            [
             1,
             "#f0f921"
            ]
           ],
           "sequentialminus": [
            [
             0,
             "#0d0887"
            ],
            [
             0.1111111111111111,
             "#46039f"
            ],
            [
             0.2222222222222222,
             "#7201a8"
            ],
            [
             0.3333333333333333,
             "#9c179e"
            ],
            [
             0.4444444444444444,
             "#bd3786"
            ],
            [
             0.5555555555555556,
             "#d8576b"
            ],
            [
             0.6666666666666666,
             "#ed7953"
            ],
            [
             0.7777777777777778,
             "#fb9f3a"
            ],
            [
             0.8888888888888888,
             "#fdca26"
            ],
            [
             1,
             "#f0f921"
            ]
           ]
          },
          "colorway": [
           "#636efa",
           "#EF553B",
           "#00cc96",
           "#ab63fa",
           "#FFA15A",
           "#19d3f3",
           "#FF6692",
           "#B6E880",
           "#FF97FF",
           "#FECB52"
          ],
          "font": {
           "color": "#2a3f5f"
          },
          "geo": {
           "bgcolor": "white",
           "lakecolor": "white",
           "landcolor": "#E5ECF6",
           "showlakes": true,
           "showland": true,
           "subunitcolor": "white"
          },
          "hoverlabel": {
           "align": "left"
          },
          "hovermode": "closest",
          "mapbox": {
           "style": "light"
          },
          "paper_bgcolor": "white",
          "plot_bgcolor": "#E5ECF6",
          "polar": {
           "angularaxis": {
            "gridcolor": "white",
            "linecolor": "white",
            "ticks": ""
           },
           "bgcolor": "#E5ECF6",
           "radialaxis": {
            "gridcolor": "white",
            "linecolor": "white",
            "ticks": ""
           }
          },
          "scene": {
           "xaxis": {
            "backgroundcolor": "#E5ECF6",
            "gridcolor": "white",
            "gridwidth": 2,
            "linecolor": "white",
            "showbackground": true,
            "ticks": "",
            "zerolinecolor": "white"
           },
           "yaxis": {
            "backgroundcolor": "#E5ECF6",
            "gridcolor": "white",
            "gridwidth": 2,
            "linecolor": "white",
            "showbackground": true,
            "ticks": "",
            "zerolinecolor": "white"
           },
           "zaxis": {
            "backgroundcolor": "#E5ECF6",
            "gridcolor": "white",
            "gridwidth": 2,
            "linecolor": "white",
            "showbackground": true,
            "ticks": "",
            "zerolinecolor": "white"
           }
          },
          "shapedefaults": {
           "line": {
            "color": "#2a3f5f"
           }
          },
          "ternary": {
           "aaxis": {
            "gridcolor": "white",
            "linecolor": "white",
            "ticks": ""
           },
           "baxis": {
            "gridcolor": "white",
            "linecolor": "white",
            "ticks": ""
           },
           "bgcolor": "#E5ECF6",
           "caxis": {
            "gridcolor": "white",
            "linecolor": "white",
            "ticks": ""
           }
          },
          "title": {
           "x": 0.05
          },
          "xaxis": {
           "automargin": true,
           "gridcolor": "white",
           "linecolor": "white",
           "ticks": "",
           "title": {
            "standoff": 15
           },
           "zerolinecolor": "white",
           "zerolinewidth": 2
          },
          "yaxis": {
           "automargin": true,
           "gridcolor": "white",
           "linecolor": "white",
           "ticks": "",
           "title": {
            "standoff": 15
           },
           "zerolinecolor": "white",
           "zerolinewidth": 2
          }
         }
        },
        "title": {
         "text": "Distribution of Daily Trip Frequencies per Segment"
        },
        "xaxis": {
         "anchor": "y",
         "domain": [
          0,
          1
         ],
         "title": {
          "text": "Number of Daily Trips"
         }
        },
        "yaxis": {
         "anchor": "x",
         "domain": [
          0,
          1
         ],
         "title": {
          "text": "Segment Count"
         }
        }
       }
      }
     },
     "metadata": {},
     "output_type": "display_data"
    }
   ],
   "source": [
    "def calculate_segment_utilization(trips_df, segments_df):\n",
    "    \"\"\"Calculate daily trip frequency per segment and plot interactive histogram\"\"\"\n",
    "    # Count trips per shape (all directions)\n",
    "    shape_per_day = trips_df.groupby(['shape_id'])['trip_id'].count().reset_index()\n",
    "\n",
    "    # Merge with segments\n",
    "    segment_per_day = pd.merge(segments_df, shape_per_day, on=\"shape_id\")\n",
    "    \n",
    "    # Aggregate by segment\n",
    "    segment_day_trips = segment_per_day.groupby(\n",
    "        by=[\"start_lat\", \"start_lng\", \"end_lat\", \"end_lng\"]\n",
    "    ).sum(\"trip_id\").reset_index()\n",
    "    \n",
    "    # Create interactive histogram with Plotly\n",
    "    import plotly.express as px\n",
    "    fig = px.histogram(\n",
    "        segment_day_trips,\n",
    "        x='trip_id',\n",
    "        nbins=50,\n",
    "        title='Distribution of Daily Trip Frequencies per Segment',\n",
    "        labels={'trip_id': 'Number of Daily Trips'},\n",
    "        opacity=0.8\n",
    "    )\n",
    "    fig.update_layout(\n",
    "        xaxis_title='Number of Daily Trips',\n",
    "        yaxis_title='Segment Count',\n",
    "        bargap=0.1,\n",
    "        height=500\n",
    "    )\n",
    "    html_path = os.path.join(GTFS_DIR, 'segment_trip_distribution_interactive.html')\n",
    "    fig.write_html(html_path)\n",
    "    fig.show()\n",
    "    return segment_day_trips\n",
    "\n",
    "# Calculate segment utilization\n",
    "segment_day_trips = calculate_segment_utilization(gtfs['trips'], segments_df)"
   ]
  },
  {
   "cell_type": "code",
   "execution_count": 7,
   "metadata": {},
   "outputs": [
    {
     "name": "stdout",
     "output_type": "stream",
     "text": [
      "   start_lat  start_lng    end_lat    end_lng    seq  trip_id\n",
      "0  49.899553  19.835309  49.899561  19.835358  221.0       80\n",
      "1  49.899556  19.835255  49.899553  19.835309  220.0       80\n",
      "2  49.899561  19.835358  49.899577  19.835402  222.0       80\n",
      "3  49.899570  19.835204  49.899556  19.835255  219.0       80\n",
      "4  49.899577  19.835402  49.899600  19.835436  223.0       80\n",
      "          start_lat     start_lng       end_lat       end_lng           seq  \\\n",
      "count  54195.000000  54195.000000  54195.000000  54195.000000  54195.000000   \n",
      "mean      50.053147     19.923208     50.053138     19.923241   1024.806071   \n",
      "std        0.065668      0.122874      0.065630      0.122811   1575.463696   \n",
      "min       49.899553     19.583692     49.899553     19.583692      1.000000   \n",
      "25%       50.004684     19.835824     50.004696     19.835834    213.000000   \n",
      "50%       50.055972     19.931807     50.055921     19.931813    514.000000   \n",
      "75%       50.096551     19.999575     50.096540     19.999558   1178.000000   \n",
      "max       50.245430     20.352689     50.245430     20.352689  22690.000000   \n",
      "\n",
      "            trip_id  \n",
      "count  54195.000000  \n",
      "mean     207.647790  \n",
      "std      248.547012  \n",
      "min        2.000000  \n",
      "25%       63.000000  \n",
      "50%      126.000000  \n",
      "75%      254.000000  \n",
      "max     2708.000000  \n",
      "Total segments: 54195\n",
      "       start_lat  start_lng    end_lat    end_lng     seq  trip_id\n",
      "21673  50.031936  19.948258  50.031936  19.948258  6069.0     2708\n",
      "28143  50.059856  19.924994  50.060673  19.924513  7239.0     2218\n",
      "28661  50.062538  19.923692  50.062785  19.923708  7365.0     2218\n",
      "28328  50.060843  19.924419  50.060953  19.924363  7267.0     2218\n",
      "28845  50.063921  19.924099  50.064255  19.924221  7435.0     2218\n",
      "28820  50.063722  19.924022  50.063817  19.924061  7407.0     2218\n",
      "28347  50.060953  19.924363  50.061395  19.924146  7281.0     2218\n",
      "28747  50.063117  19.923789  50.063722  19.924022  7393.0     2218\n",
      "28628  50.062397  19.923709  50.062538  19.923692  7351.0     2218\n",
      "27895  50.059444  19.925240  50.059466  19.925227  7169.0     2218\n"
     ]
    }
   ],
   "source": [
    "print(segment_day_trips.head())\n",
    "print(segment_day_trips.describe())\n",
    "print(\"Total segments:\", len(segment_day_trips))\n",
    "print(segment_day_trips.sort_values('trip_id', ascending=False).head(10))"
   ]
  },
  {
   "cell_type": "code",
   "execution_count": 8,
   "metadata": {},
   "outputs": [
    {
     "name": "stdout",
     "output_type": "stream",
     "text": [
      "Segments with more than 100 trips per day:\n",
      "       start_lat  start_lng    end_lat    end_lng     seq  trip_id\n",
      "21673  50.031936  19.948258  50.031936  19.948258  6069.0     2708\n",
      "27840  50.059359  19.925291  50.059444  19.925240  7155.0     2218\n",
      "28473  50.061682  19.923997  50.062129  19.923779  7309.0     2218\n",
      "27895  50.059444  19.925240  50.059466  19.925227  7169.0     2218\n",
      "27916  50.059466  19.925227  50.059522  19.925193  7183.0     2218\n",
      "...          ...        ...        ...        ...     ...      ...\n",
      "27098  50.055976  19.926876  50.055745  19.927018  2247.0     1559\n",
      "27111  50.056069  19.926830  50.055976  19.926876  2240.0     1559\n",
      "27112  50.056069  19.926830  50.056069  19.926830  2233.0     1559\n",
      "27004  50.055217  19.927429  50.055196  19.927472  2275.0     1559\n",
      "23510  50.039462  19.937322  50.039593  19.937219  3910.0     1544\n",
      "\n",
      "[355 rows x 6 columns]\n"
     ]
    }
   ],
   "source": [
    "# Show segments with more than 100 trips per day\n",
    "busy_segments = segment_day_trips[segment_day_trips['trip_id'] > 1500]\n",
    "print(\"Segments with more than 100 trips per day:\")\n",
    "print(busy_segments.sort_values('trip_id', ascending=False))\n",
    "\n",
    "# Optionally, save to CSV for further analysis\n",
    "busy_segments.to_csv('busy_segments_over_100.csv', index=False)"
   ]
  },
  {
   "cell_type": "markdown",
   "metadata": {},
   "source": [
    "### 4.1 Let's identify the busiest segment and the trips that use it"
   ]
  },
  {
   "cell_type": "code",
   "execution_count": 9,
   "metadata": {},
   "outputs": [
    {
     "name": "stdout",
     "output_type": "stream",
     "text": [
      "start_lat      50.031936\n",
      "start_lng      19.948258\n",
      "end_lat        50.031936\n",
      "end_lng        19.948258\n",
      "seq          6069.000000\n",
      "trip_id      2708.000000\n",
      "Name: 21673, dtype: float64\n"
     ]
    }
   ],
   "source": [
    "# Find the segment with the highest trip count\n",
    "busiest_segment = segment_day_trips.sort_values('trip_id', ascending=False).iloc[0]\n",
    "print(busiest_segment)"
   ]
  },
  {
   "cell_type": "code",
   "execution_count": 10,
   "metadata": {},
   "outputs": [
    {
     "name": "stdout",
     "output_type": "stream",
     "text": [
      "          shape_id  start_lat  start_lng    seq    end_lat    end_lng\n",
      "468978  shape_4027  50.031936  19.948258  735.0  50.031936  19.948258\n",
      "468979  shape_4027  50.031936  19.948258  736.0  50.031936  19.948258\n",
      "471462  shape_4031  50.031936  19.948258  367.0  50.031936  19.948258\n",
      "471463  shape_4031  50.031936  19.948258  368.0  50.031936  19.948258\n",
      "475324  shape_7529  50.031936  19.948258  367.0  50.031936  19.948258\n",
      "475325  shape_7529  50.031936  19.948258  368.0  50.031936  19.948258\n",
      "477479  shape_7534  50.031936  19.948258  735.0  50.031936  19.948258\n",
      "477480  shape_7534  50.031936  19.948258  736.0  50.031936  19.948258\n",
      "506055  shape_4150  50.031936  19.948258  843.0  50.031936  19.948258\n",
      "506056  shape_4150  50.031936  19.948258  844.0  50.031936  19.948258\n",
      "508182  shape_4388  50.031936  19.948258  152.0  50.031936  19.948258\n",
      "508183  shape_4388  50.031936  19.948258  153.0  50.031936  19.948258\n",
      "510770  shape_7582  50.031936  19.948258  152.0  50.031936  19.948258\n",
      "510771  shape_7582  50.031936  19.948258  153.0  50.031936  19.948258\n",
      "512353  shape_7583  50.031936  19.948258  843.0  50.031936  19.948258\n",
      "512354  shape_7583  50.031936  19.948258  844.0  50.031936  19.948258\n",
      "658365  shape_3069  50.031936  19.948258  184.0  50.031936  19.948258\n",
      "658366  shape_3069  50.031936  19.948258  185.0  50.031936  19.948258\n",
      "660313  shape_6550  50.031936  19.948258  184.0  50.031936  19.948258\n",
      "660314  shape_6550  50.031936  19.948258  185.0  50.031936  19.948258\n",
      "679762  shape_3145  50.031936  19.948258  179.0  50.031936  19.948258\n",
      "679763  shape_3145  50.031936  19.948258  180.0  50.031936  19.948258\n",
      "681745  shape_6265  50.031936  19.948258  110.0  50.031936  19.948258\n",
      "681746  shape_6265  50.031936  19.948258  111.0  50.031936  19.948258\n",
      "683193  shape_6660  50.031936  19.948258  110.0  50.031936  19.948258\n",
      "683194  shape_6660  50.031936  19.948258  111.0  50.031936  19.948258\n",
      "687432  shape_3174  50.031936  19.948258  148.0  50.031936  19.948258\n",
      "687433  shape_3174  50.031936  19.948258  149.0  50.031936  19.948258\n",
      "689448  shape_6675  50.031936  19.948258  315.0  50.031936  19.948258\n",
      "689449  shape_6675  50.031936  19.948258  316.0  50.031936  19.948258\n",
      "691590  shape_6844  50.031936  19.948258  315.0  50.031936  19.948258\n",
      "691591  shape_6844  50.031936  19.948258  316.0  50.031936  19.948258\n",
      "705723  shape_3203  50.031936  19.948258  237.0  50.031936  19.948258\n",
      "705724  shape_3203  50.031936  19.948258  238.0  50.031936  19.948258\n",
      "709771  shape_6708  50.031936  19.948258  237.0  50.031936  19.948258\n",
      "709772  shape_6708  50.031936  19.948258  238.0  50.031936  19.948258\n",
      "713081  shape_3215  50.031936  19.948258  223.0  50.031936  19.948258\n",
      "713082  shape_3215  50.031936  19.948258  224.0  50.031936  19.948258\n",
      "723129  shape_3245  50.031936  19.948258  223.0  50.031936  19.948258\n",
      "723130  shape_3245  50.031936  19.948258  224.0  50.031936  19.948258\n",
      "724777  shape_6741  50.031936  19.948258  223.0  50.031936  19.948258\n",
      "724778  shape_6741  50.031936  19.948258  224.0  50.031936  19.948258\n",
      "                           trip_id   route_id  direction_id    shape_id\n",
      "146     block_57_trip_29_service_1  route_602             1  shape_3203\n",
      "148     block_57_trip_31_service_1  route_602             1  shape_3203\n",
      "357     block_143_trip_2_service_1  route_596             1  shape_3145\n",
      "359     block_143_trip_4_service_1  route_596             1  shape_3145\n",
      "361     block_143_trip_8_service_1  route_596             1  shape_3145\n",
      "...                            ...        ...           ...         ...\n",
      "40359  block_2223_trip_7_service_5  route_153             1  shape_4150\n",
      "40361  block_2223_trip_9_service_5  route_153             1  shape_4150\n",
      "40362  block_2224_trip_2_service_5  route_587             1  shape_3069\n",
      "40364  block_2224_trip_4_service_5  route_587             1  shape_3069\n",
      "40366  block_2224_trip_6_service_5  route_153             1  shape_4150\n",
      "\n",
      "[1896 rows x 4 columns]\n"
     ]
    }
   ],
   "source": [
    "# Find all rows in segments_df that match the busiest segment's coordinates\n",
    "mask = (\n",
    "    (segments_df['start_lat'] == busiest_segment['start_lat']) &\n",
    "    (segments_df['start_lng'] == busiest_segment['start_lng']) &\n",
    "    (segments_df['end_lat'] == busiest_segment['end_lat']) &\n",
    "    (segments_df['end_lng'] == busiest_segment['end_lng'])\n",
    ")\n",
    "matching_segments = segments_df[mask]\n",
    "print(matching_segments)\n",
    "\n",
    "# Get all shape_ids for this segment\n",
    "shape_ids = matching_segments['shape_id'].unique()\n",
    "\n",
    "# Find all trips that use these shapes\n",
    "trips_using_segment = gtfs['trips'][gtfs['trips']['shape_id'].isin(shape_ids)]\n",
    "print(trips_using_segment[['trip_id', 'route_id', 'direction_id', 'shape_id']])"
   ]
  },
  {
   "cell_type": "code",
   "execution_count": 11,
   "metadata": {},
   "outputs": [],
   "source": [
    "# Get the 20 busiest segments\n",
    "top_n = 20\n",
    "top_segments = segment_day_trips.sort_values('trip_id', ascending=False).head(top_n)\n",
    "\n",
    "# Center the map on the first segment\n",
    "center_lat = top_segments.iloc[0]['start_lat']\n",
    "center_lng = top_segments.iloc[0]['start_lng']\n",
    "m = folium.Map(location=[center_lat, center_lng], zoom_start=13)\n",
    "\n",
    "# Add each segment as a line\n",
    "for _, row in top_segments.iterrows():\n",
    "    folium.PolyLine(\n",
    "        locations=[\n",
    "            [row['start_lat'], row['start_lng']],\n",
    "            [row['end_lat'], row['end_lng']]\n",
    "        ],\n",
    "        color='red',\n",
    "        weight=6,\n",
    "        popup=f\"Trips per day: {row['trip_id']}\"\n",
    "    ).add_to(m)\n",
    "\n",
    "m.save(os.path.join(GTFS_DIR, 'busiest_segments_top20.html'))"
   ]
  },
  {
   "cell_type": "markdown",
   "metadata": {},
   "source": [
    "## 5. Build Stop Network Graph"
   ]
  },
  {
   "cell_type": "markdown",
   "metadata": {},
   "source": [
    "Let's prepare the visualization function for the graph"
   ]
  },
  {
   "cell_type": "code",
   "execution_count": 29,
   "metadata": {},
   "outputs": [],
   "source": [
    "def visualize_stop_network(G, stops_df, filename='gtfs_network_graph.html', max_edges=50000):\n",
    "    \"\"\"Visualize the stop network (nodes and edges) as an interactive Folium map.\"\"\"\n",
    "\n",
    "    # Get node positions\n",
    "    stop_positions = stops_df.set_index('stop_id')[['stop_lat', 'stop_lon']].to_dict('index')\n",
    "    center_lat = stops_df['stop_lat'].mean()\n",
    "    center_lon = stops_df['stop_lon'].mean()\n",
    "    m = folium.Map(location=[center_lat, center_lon], zoom_start=12, tiles='CartoDB positron')\n",
    "\n",
    "    # Draw edges (limit for performance)\n",
    "    for i, (u, v, data) in enumerate(G.edges(data=True)):\n",
    "        if i > max_edges:\n",
    "            break\n",
    "        if u in stop_positions and v in stop_positions:\n",
    "            folium.PolyLine(\n",
    "                locations=[\n",
    "                    [stop_positions[u]['stop_lat'], stop_positions[u]['stop_lon']],\n",
    "                    [stop_positions[v]['stop_lat'], stop_positions[v]['stop_lon']]\n",
    "                ],\n",
    "                color='red', weight=2, opacity=0.5\n",
    "            ).add_to(m)\n",
    "\n",
    "    # Draw nodes\n",
    "    for stop_id, pos in stop_positions.items():\n",
    "        folium.CircleMarker(\n",
    "            location=[pos['stop_lat'], pos['stop_lon']],\n",
    "            radius=3, color='black', fill=True, fill_opacity=0.7\n",
    "        ).add_to(m)\n",
    "\n",
    "    full_path = os.path.join(GTFS_DIR, filename)\n",
    "    m.save(full_path)\n",
    "    print(f\"Stop network map saved as {full_path}\")"
   ]
  },
  {
   "cell_type": "code",
   "execution_count": 37,
   "metadata": {},
   "outputs": [
    {
     "name": "stdout",
     "output_type": "stream",
     "text": [
      "Stop network map saved as results/gtfs_graph/gtfs_network_graph.html\n",
      "Calculating eigenvector centrality...\n",
      "Calculating PageRank...\n",
      "Calculating betweenness centrality...\n",
      "Calculating degree centrality...\n"
     ]
    }
   ],
   "source": [
    "def build_stop_network(stop_times_df, trips_df, stops_df):\n",
    "    \"\"\"Create directed graph of stops\"\"\"\n",
    "    # Merge stop_times with trips to get direction information\n",
    "    stop_times_with_direction = pd.merge(\n",
    "        stop_times_df, \n",
    "        trips_df[['trip_id', 'direction_id']], \n",
    "        on='trip_id'\n",
    "    )\n",
    "    \n",
    "    # Filter for direction_id = 1 and sort stops\n",
    "    # direction_1_stop_times = stop_times_with_direction[\n",
    "    #     stop_times_with_direction['direction_id'] == 1\n",
    "    # ].sort_values(['trip_id', 'stop_sequence'])\n",
    "\n",
    "    # No filtering by direction_id, as we want to analyze all directions\n",
    "    direction_1_stop_times = stop_times_with_direction.sort_values(['trip_id', 'stop_sequence'])\n",
    "    \n",
    "    # Create edges between consecutive stops\n",
    "    direction_1_stop_times['to_stop'] = direction_1_stop_times.groupby('trip_id')['stop_id'].shift(-1)\n",
    "    edges_df = direction_1_stop_times.dropna(subset=['to_stop'])[['stop_id', 'to_stop']]\n",
    "    edges_df.columns = ['from_stop', 'to_stop']\n",
    "    \n",
    "    # Calculate edge weights\n",
    "    edge_weights = edges_df.groupby(['from_stop', 'to_stop']).size().reset_index(name='weight')\n",
    "    \n",
    "    # Create directed graph\n",
    "    G = nx.DiGraph()\n",
    "    for _, row in edge_weights.iterrows():\n",
    "        G.add_edge(row['from_stop'], row['to_stop'], weight=row['weight'])\n",
    "    visualize_stop_network(G, gtfs['stops'])\n",
    "    # Calculate centrality measures\n",
    "    print(\"Calculating eigenvector centrality...\")\n",
    "    eigen_centrality = nx.eigenvector_centrality(G, weight='weight', max_iter=1000)\n",
    "    \n",
    "    print(\"Calculating PageRank...\")\n",
    "    pagerank = nx.pagerank(G, weight='weight')\n",
    "    \n",
    "    print(\"Calculating betweenness centrality...\")\n",
    "    betweenness_centrality = nx.betweenness_centrality(G, weight='weight')\n",
    "    \n",
    "    print(\"Calculating degree centrality...\")\n",
    "    degree_centrality = nx.degree_centrality(G)\n",
    "    \n",
    "    # Create DataFrames\n",
    "    centrality_dfs = {}\n",
    "    for name, centrality in [('eigen', eigen_centrality), \n",
    "                            ('pagerank', pagerank),\n",
    "                            ('betweenness', betweenness_centrality),\n",
    "                            ('degree', degree_centrality)]:\n",
    "        df = pd.DataFrame.from_dict(centrality, orient='index', columns=[name]).reset_index()\n",
    "        df.columns = ['stop_id', name]\n",
    "        df = pd.merge(df, stops_df[['stop_id', 'stop_name', 'stop_lat', 'stop_lon']], on='stop_id')\n",
    "        centrality_dfs[name] = df\n",
    "    \n",
    "    return centrality_dfs\n",
    "\n",
    "# Build stop network\n",
    "centrality_dfs = build_stop_network(gtfs['stop_times'], gtfs['trips'], gtfs['stops'])"
   ]
  },
  {
   "cell_type": "code",
   "execution_count": 38,
   "metadata": {},
   "outputs": [
    {
     "name": "stdout",
     "output_type": "stream",
     "text": [
      "Top Eigenvector Centrality Stops:\n",
      "               stop_id     eigen             stop_name   stop_lat   stop_lon\n",
      "2499    stop_439_62001  0.385692          Kamieńskiego  50.028884  19.956902\n",
      "585     stop_432_61003  0.375085      Rondo Matecznego  50.035877  19.941375\n",
      "1623  stop_2108_333803  0.292769    Rondo Grunwaldzkie  50.048252  19.932344\n",
      "1260    stop_438_61901  0.263357  Kamieńskiego Wiadukt  50.031107  19.949137\n",
      "584   stop_1200_280801  0.254721              Ludwinów  50.043236  19.934745\n",
      "\n",
      "Top PageRank Stops:\n",
      "               stop_id  pagerank            stop_name   stop_lat   stop_lon\n",
      "11    stop_1654_314104  0.002035      Muzeum Narodowe  50.058644  19.925202\n",
      "1791   stop_984_247501  0.001730     Skawina Cmentarz  49.975187  19.831138\n",
      "557        stop_7_1203  0.001718  Rondo Ofiar Katynia  50.086632  19.891059\n",
      "1200    stop_237_31904  0.001513              Jubilat  50.056091  19.926715\n",
      "1826  stop_2309_345907  0.001508        Bronowice SKA  50.081535  19.890548\n",
      "\n",
      "Top Betweenness Centrality Stops:\n",
      "               stop_id  betweenness          stop_name   stop_lat   stop_lon\n",
      "1429  stop_1921_324201     0.378562  Teatr Słowackiego  50.064639  19.945657\n",
      "2035    stop_261_35807     0.339453        Starowiślna  50.056722  19.946044\n",
      "1430    stop_260_35701     0.326961      Poczta Główna  50.059935  19.942491\n",
      "1433  stop_1921_324203     0.300565  Teatr Słowackiego  50.064008  19.945092\n",
      "2036    stop_260_35704     0.300565      Poczta Główna  50.059311  19.942837\n",
      "\n",
      "Top Degree Centrality Stops:\n",
      "              stop_id    degree            stop_name   stop_lat   stop_lon\n",
      "62   stop_2309_345906  0.003317        Bronowice SKA  50.080823  19.890659\n",
      "273  stop_2961_372407  0.003317  Krowodrza Górka P+R  50.088982  19.932582\n",
      "211  stop_1068_258601  0.002985      Jerzmanowskiego  50.009710  20.009246\n",
      "969      stop_50_7103  0.002985         Nowy Kleparz  50.073617  19.937271\n",
      "217  stop_1068_258602  0.002653      Jerzmanowskiego  50.010637  20.008024\n"
     ]
    }
   ],
   "source": [
    "\n",
    "# Display top central stops\n",
    "print(\"Top Eigenvector Centrality Stops:\")\n",
    "print(centrality_dfs['eigen'].sort_values('eigen', ascending=False).head(5))\n",
    "\n",
    "print(\"\\nTop PageRank Stops:\")\n",
    "print(centrality_dfs['pagerank'].sort_values('pagerank', ascending=False).head(5))\n",
    "\n",
    "print(\"\\nTop Betweenness Centrality Stops:\")\n",
    "print(centrality_dfs['betweenness'].sort_values('betweenness', ascending=False).head(5))\n",
    "\n",
    "print(\"\\nTop Degree Centrality Stops:\")\n",
    "print(centrality_dfs['degree'].sort_values('degree', ascending=False).head(5))"
   ]
  },
  {
   "cell_type": "markdown",
   "metadata": {},
   "source": [
    "## 6. Visualize Central Stops"
   ]
  },
  {
   "cell_type": "code",
   "execution_count": 39,
   "metadata": {},
   "outputs": [],
   "source": [
    "def visualize_central_stops(centrality_df, centrality_type, title):\n",
    "    \"\"\"Create interactive map of stops with centrality\"\"\"\n",
    "    # Normalize centrality for visualization\n",
    "    centrality_df['normalized'] = centrality_df[centrality_type] / centrality_df[centrality_type].max()\n",
    "    \n",
    "    # Create map with a lighter background\n",
    "    center_lat = centrality_df['stop_lat'].mean()\n",
    "    center_lon = centrality_df['stop_lon'].mean()\n",
    "    m = folium.Map(location=[center_lat, center_lon], zoom_start=12, tiles='CartoDB positron')\n",
    "    \n",
    "    # Add stops\n",
    "    for idx, row in centrality_df.iterrows():\n",
    "        radius = 5 + (row['normalized'] * 30)\n",
    "        color = f'#{int(255 * row[\"normalized\"]):02x}0000'\n",
    "        \n",
    "        folium.CircleMarker(\n",
    "            location=[row['stop_lat'], row['stop_lon']],\n",
    "            radius=radius,\n",
    "            color=color,\n",
    "            fill=True,\n",
    "            fill_opacity=0.7,\n",
    "            popup=f\"{row['stop_name']}<br>{centrality_type}: {row[centrality_type]:.4f}\"\n",
    "        ).add_to(m)\n",
    "    \n",
    "    # Add title\n",
    "    title_html = f'''\n",
    "        <h3 align=\"center\" style=\"font-size:16px\"><b>{title}</b></h3>\n",
    "        '''\n",
    "    m.get_root().html.add_child(folium.Element(title_html))\n",
    "    \n",
    "    return m\n",
    "\n",
    "# Visualize different centrality measures\n",
    "eigen_map = visualize_central_stops(\n",
    "    centrality_dfs['eigen'], \n",
    "    'eigen', \n",
    "    'Eigenvector Centrality - Influence in Well-connected Clusters'\n",
    ")\n",
    "\n",
    "eigen_map.save(os.path.join(GTFS_DIR,'eigen_centrality.html'))\n",
    "\n",
    "pagerank_map = visualize_central_stops(\n",
    "    centrality_dfs['pagerank'], \n",
    "    'pagerank', \n",
    "    'PageRank - High-traffic Transit Points'\n",
    ")\n",
    "pagerank_map.save(os.path.join(GTFS_DIR,'pagerank.html'))\n",
    "\n",
    "\n",
    "betweenness_map = visualize_central_stops(\n",
    "    centrality_dfs['betweenness'], \n",
    "    'betweenness', \n",
    "    'Betweenness Centrality - Key Transfer Points'\n",
    ")\n",
    "betweenness_map.save(os.path.join(GTFS_DIR,'betweenness_centrality.html'))\n",
    "\n",
    "degree_map = visualize_central_stops(\n",
    "    centrality_dfs['degree'], \n",
    "    'degree', \n",
    "    'Degree Centrality - Most Connected Stops'\n",
    ")\n",
    "degree_map.save(os.path.join(GTFS_DIR,'degree_centrality.html'))"
   ]
  },
  {
   "cell_type": "markdown",
   "metadata": {},
   "source": [
    "## 7. Integrate OSM Street Data"
   ]
  },
  {
   "cell_type": "code",
   "execution_count": 17,
   "metadata": {},
   "outputs": [
    {
     "name": "stdout",
     "output_type": "stream",
     "text": [
      "Downloading OSM data for Kraków, Poland...\n",
      "OSM data downloaded: 9620 nodes, 21168 edges\n"
     ]
    }
   ],
   "source": [
    "def integrate_osm_data(place=\"Kraków, Poland\"):\n",
    "    \"\"\"Download and prepare OSM street data\"\"\"\n",
    "    print(f\"Downloading OSM data for {place}...\")\n",
    "    # Get the street network\n",
    "    G = ox.graph_from_place(place, network_type='drive', simplify=True)\n",
    "    \n",
    "    # Convert to GeoDataFrames\n",
    "    nodes, edges = ox.graph_to_gdfs(G)\n",
    "    \n",
    "    print(f\"OSM data downloaded: {len(nodes)} nodes, {len(edges)} edges\")\n",
    "    return G, nodes, edges\n",
    "\n",
    "# Integrate OSM data\n",
    "krk_streets, osm_nodes, osm_edges = integrate_osm_data()"
   ]
  },
  {
   "cell_type": "code",
   "execution_count": 19,
   "metadata": {},
   "outputs": [
    {
     "name": "stdout",
     "output_type": "stream",
     "text": [
      "OSM street network map saved as results/osm_graph/krakow_osm_streets_graph.html\n"
     ]
    }
   ],
   "source": [
    "def visualize_osm_streets(osm_nodes, osm_edges, filename='krakow_osm_streets_graph.html'):\n",
    "    \"\"\"Visualize OSM street network as an interactive Folium map.\"\"\"\n",
    "    import folium\n",
    "\n",
    "    center_lat = osm_nodes['y'].mean()\n",
    "    center_lon = osm_nodes['x'].mean()\n",
    "    m = folium.Map(location=[center_lat, center_lon], zoom_start=12, tiles='CartoDB positron')\n",
    "    for node_id, row in osm_nodes.iterrows():\n",
    "        folium.CircleMarker(\n",
    "            location=[row['y'], row['x']],\n",
    "            radius=2,\n",
    "            color='black',\n",
    "            fill=True,\n",
    "            fill_opacity=0.7\n",
    "        ).add_to(m)\n",
    "\n",
    "    for _, row in osm_edges.iterrows():\n",
    "        if row['geometry'].geom_type == 'LineString':\n",
    "            folium.PolyLine(\n",
    "                locations=[(lat, lon) for lon, lat in row['geometry'].coords],\n",
    "                color='blue', weight=2, opacity=0.5\n",
    "            ).add_to(m)\n",
    "        elif row['geometry'].geom_type == 'MultiLineString':\n",
    "            for linestring in row['geometry']:\n",
    "                folium.PolyLine(\n",
    "                    locations=[(lat, lon) for lon, lat in linestring.coords],\n",
    "                    color='blue', weight=2, opacity=0.5\n",
    "                ).add_to(m)\n",
    "                \n",
    "    full_path = os.path.join(OSM_DIR, filename)\n",
    "    m.save(full_path)\n",
    "    print(f\"OSM street network map saved as {full_path}\")\n",
    "\n",
    "visualize_osm_streets(osm_nodes, osm_edges)\n"
   ]
  },
  {
   "cell_type": "markdown",
   "metadata": {},
   "source": [
    "## 8. Create Multimodal Network"
   ]
  },
  {
   "cell_type": "code",
   "execution_count": 40,
   "metadata": {},
   "outputs": [
    {
     "name": "stdout",
     "output_type": "stream",
     "text": [
      "Integrated network created: 54224 nodes, 75207 edges\n",
      "Merged network: 15958 nodes, 35397 edges\n"
     ]
    }
   ],
   "source": [
    "def create_multimodal_network(krk_streets, segment_day_trips, merge_close_nodes=False, distance_threshold=0.0002):\n",
    "    \"\"\"Combine OSM street network with GTFS bus segments, with optional merging of close nodes\"\"\"\n",
    "    integrated = nx.DiGraph()\n",
    "    \n",
    "    # Add OSM nodes\n",
    "    for node, data in krk_streets.nodes(data=True):\n",
    "        integrated.add_node(f'[ROAD]{node}', **data)\n",
    "    \n",
    "    # Add OSM edges\n",
    "    for u, v, data in krk_streets.edges(data=True):\n",
    "        if 'geometry' in data:\n",
    "            geometry = data['geometry']\n",
    "        else:\n",
    "            start = Point(krk_streets.nodes[u]['x'], krk_streets.nodes[u]['y'])\n",
    "            end = Point(krk_streets.nodes[v]['x'], krk_streets.nodes[v]['y'])\n",
    "            geometry = LineString([start, end])\n",
    "        highway = data.get('highway', 'unknown')\n",
    "        if isinstance(highway, list):\n",
    "            highway = highway[0]\n",
    "        integrated.add_edge(\n",
    "            f'[ROAD]{u}', \n",
    "            f'[ROAD]{v}', \n",
    "            road_size=highway, \n",
    "            geometry=geometry, \n",
    "            length=data.get('length', 0),\n",
    "            type='road'\n",
    "        )\n",
    "    \n",
    "    # Add GTFS bus segments\n",
    "    for _, row in segment_day_trips.iterrows():\n",
    "        start_node = f'[BUS]{row.start_lng},{row.start_lat}'\n",
    "        end_node = f'[BUS]{row.end_lng},{row.end_lat}'\n",
    "        start = Point(row.start_lng, row.start_lat)\n",
    "        end = Point(row.end_lng, row.end_lat)\n",
    "        geometry = LineString([start, end])\n",
    "        integrated.add_node(start_node, x=row.start_lng, y=row.start_lat)\n",
    "        integrated.add_node(end_node, x=row.end_lng, y=row.end_lat)\n",
    "        integrated.add_edge(\n",
    "            start_node, \n",
    "            end_node, \n",
    "            road_size='bus', \n",
    "            geometry=geometry, \n",
    "            type='bus', \n",
    "            arrivals=row['trip_id']\n",
    "        )\n",
    "    \n",
    "    print(f\"Integrated network created: {integrated.number_of_nodes()} nodes, {integrated.number_of_edges()} edges\")\n",
    "    \n",
    "    if merge_close_nodes:\n",
    "        # Merge nodes that are spatially close\n",
    "        # Extract coordinates and node names\n",
    "        node_coords = []\n",
    "        node_names = []\n",
    "        for node, data in integrated.nodes(data=True):\n",
    "            if 'x' in data and 'y' in data:\n",
    "                node_coords.append([data['x'], data['y']])\n",
    "                node_names.append(node)\n",
    "        coords = np.array(node_coords)\n",
    "        tree = cKDTree(coords)\n",
    "        pairs = tree.query_pairs(distance_threshold)\n",
    "        \n",
    "        # Union-Find for merging\n",
    "        groups = nx.utils.union_find.UnionFind()\n",
    "        for i, j in pairs:\n",
    "            groups.union(node_names[i], node_names[j])\n",
    "        \n",
    "        # Build merged graph\n",
    "        merged = nx.DiGraph()\n",
    "        for node, data in integrated.nodes(data=True):\n",
    "            rep = groups[node]\n",
    "            if rep not in merged:\n",
    "                merged.add_node(rep, **data)\n",
    "        for u, v, data in integrated.edges(data=True):\n",
    "            rep_u = groups[u]\n",
    "            rep_v = groups[v]\n",
    "            merged.add_edge(rep_u, rep_v, **data)\n",
    "        print(f\"Merged network: {merged.number_of_nodes()} nodes, {merged.number_of_edges()} edges\")\n",
    "        return merged\n",
    "\n",
    "    return integrated\n",
    "\n",
    "# Example usage:\n",
    "integrated_network = create_multimodal_network(krk_streets, segment_day_trips, merge_close_nodes=True, distance_threshold=0.0003)"
   ]
  },
  {
   "cell_type": "code",
   "execution_count": 41,
   "metadata": {},
   "outputs": [
    {
     "name": "stdout",
     "output_type": "stream",
     "text": [
      "Multimodal network map saved as results/merged_gtfs_osm/multimodal_network.html\n"
     ]
    }
   ],
   "source": [
    "def visualize_multimodal_network(integrated_network, filename='multimodal_network.html'):\n",
    "    # Center map on Krakow\n",
    "    m = folium.Map(location=[50.0614, 19.9372], zoom_start=12, tiles='CartoDB positron')\n",
    "    \n",
    "    # Draw edges\n",
    "    for u, v, data in integrated_network.edges(data=True):\n",
    "        u_node = integrated_network.nodes[u]\n",
    "        v_node = integrated_network.nodes[v]\n",
    "        color = 'blue' if data['type'] == 'road' else 'red'\n",
    "        folium.PolyLine(\n",
    "            locations=[[u_node['y'], u_node['x']], [v_node['y'], v_node['x']]],\n",
    "            color=color,\n",
    "            weight=2,\n",
    "            opacity=0.6\n",
    "        ).add_to(m)\n",
    "    \n",
    "    # Draw nodes by type\n",
    "    for node, data in integrated_network.nodes(data=True):\n",
    "        if 'x' in data and 'y' in data:\n",
    "            if str(node).startswith('[ROAD]'):\n",
    "                node_color = 'blue'\n",
    "            elif str(node).startswith('[BUS]'):\n",
    "                node_color = 'red'\n",
    "            else:\n",
    "                node_color = 'black'\n",
    "            folium.CircleMarker(\n",
    "                location=[data['y'], data['x']],\n",
    "                radius=3,\n",
    "                color=node_color,\n",
    "                fill=True,\n",
    "                fill_opacity=0.4\n",
    "            ).add_to(m)\n",
    "    \n",
    "    full_path = os.path.join(MERGED_DIR, filename)\n",
    "    m.save(full_path)\n",
    "    print(f\"Multimodal network map saved as {full_path}\")\n",
    "\n",
    "visualize_multimodal_network(integrated_network)"
   ]
  },
  {
   "cell_type": "markdown",
   "metadata": {},
   "source": [
    "## 9. Assign Flow Capacities"
   ]
  },
  {
   "cell_type": "code",
   "execution_count": 42,
   "metadata": {},
   "outputs": [
    {
     "name": "stdout",
     "output_type": "stream",
     "text": [
      "Flow capacities assigned to all edges\n"
     ]
    }
   ],
   "source": [
    "def assign_flow_capacities(integrated_network):\n",
    "    \"\"\"Assign flow capacities based on road type and bus frequency\"\"\"\n",
    "    # Capacity definitions (vehicles/day)\n",
    "    capacity = {\n",
    "        \"motorway\": 180_000,\n",
    "        \"trunk\": 138_000,\n",
    "        \"primary\": 53_000,\n",
    "        \"secondary\": 23_000,\n",
    "        \"tertiary\": 5_300,\n",
    "        \"unclassified\": 12_300,\n",
    "        \"residential\": 4_000,\n",
    "        \"service\": 750,\n",
    "        \"living_street\": 1000,\n",
    "        \n",
    "        \"motorway_link\": 36_000,\n",
    "        \"trunk_link\": 27_600,\n",
    "        \"primary_link\": 10_600,\n",
    "        \"secondary_link\": 4_600,\n",
    "        \"tertiary_link\": 1_060,\n",
    "        \"bus\": None  # Special handling\n",
    "    }\n",
    "    \n",
    "    # Assign capacities\n",
    "    for u, v, data in integrated_network.edges(data=True):\n",
    "        if data['type'] == 'bus':\n",
    "            # Bus capacity = trips × assumed capacity per bus\n",
    "            data['flow_capacity'] = data.get('arrivals', 0) * 50\n",
    "        elif data['type'] == 'road' and data['road_size'] in capacity:\n",
    "            data['flow_capacity'] = capacity[data['road_size']]\n",
    "        else:\n",
    "            data['flow_capacity'] = 1_000  # Default capacity\n",
    "    \n",
    "    print(\"Flow capacities assigned to all edges\")\n",
    "    return integrated_network\n",
    "\n",
    "# Assign capacities\n",
    "integrated_network = assign_flow_capacities(integrated_network)"
   ]
  },
  {
   "cell_type": "markdown",
   "metadata": {},
   "source": [
    "## 10. Analyze Multimodal Centrality"
   ]
  },
  {
   "cell_type": "markdown",
   "metadata": {},
   "source": [
    "We want to analyze the whole urban mobility system (cars + buses):\n",
    "\n",
    "We are using the multimodal (integrated) network (integrated_network), where nodes are both road intersections and bus segment endpoints, and edges are both roads and bus routes.\n",
    "This is essential for understanding how public transport and road infrastructure interact, and for identifying critical points in the entire transport system."
   ]
  },
  {
   "cell_type": "code",
   "execution_count": 32,
   "metadata": {},
   "outputs": [
    {
     "name": "stdout",
     "output_type": "stream",
     "text": [
      "Calculating eigenvector centrality for multimodal network...\n",
      "Calculating PageRank for multimodal network...\n",
      "Calculating betweenness centrality for multimodal network...\n",
      "Calculating degree centrality for multimodal network...\n"
     ]
    }
   ],
   "source": [
    "def analyze_multimodal_centrality(integrated_network):\n",
    "    \"\"\"Calculate centrality metrics on the multimodal network\"\"\"\n",
    "    print(\"Calculating eigenvector centrality for multimodal network...\")\n",
    "    eigen_centrality = nx.eigenvector_centrality(integrated_network, weight='flow_capacity', max_iter=1000)\n",
    "    \n",
    "    print(\"Calculating PageRank for multimodal network...\")\n",
    "    pagerank = nx.pagerank(integrated_network, weight='flow_capacity')\n",
    "    \n",
    "    print(\"Calculating betweenness centrality for multimodal network...\")\n",
    "    betweenness_centrality = nx.betweenness_centrality(integrated_network, weight='flow_capacity')\n",
    "\n",
    "    print(\"Calculating degree centrality for multimodal network...\")\n",
    "    degree_centrality = nx.degree_centrality(integrated_network)\n",
    "    \n",
    "    # Prepare results\n",
    "    centrality_measures = {\n",
    "        'eigen': eigen_centrality,\n",
    "        'pagerank': pagerank,\n",
    "        'betweenness': betweenness_centrality,\n",
    "        'degree': degree_centrality\n",
    "    }\n",
    "    \n",
    "    # Create DataFrames\n",
    "    centrality_dfs = {}\n",
    "    for name, measure in centrality_measures.items():\n",
    "        df = pd.DataFrame.from_dict(measure, orient='index', columns=[name])\n",
    "        centrality_dfs[name] = df\n",
    "    \n",
    "    return centrality_dfs\n",
    "\n",
    "# Analyze multimodal centrality\n",
    "multimodal_centrality = analyze_multimodal_centrality(integrated_network)"
   ]
  },
  {
   "cell_type": "markdown",
   "metadata": {},
   "source": [
    "## 11. Visualize Multimodal Network"
   ]
  },
  {
   "cell_type": "code",
   "execution_count": 34,
   "metadata": {},
   "outputs": [
    {
     "name": "stderr",
     "output_type": "stream",
     "text": [
      "/var/folders/67/nn0_dngd0cngz2f05n5j1xpm0000gn/T/ipykernel_74008/3929562039.py:25: FutureWarning:\n",
      "\n",
      "Series.__getitem__ treating keys as positions is deprecated. In a future version, integer keys will always be treated as labels (consistent with DataFrame behavior). To access a value by position, use `ser.iloc[pos]`\n",
      "\n",
      "/var/folders/67/nn0_dngd0cngz2f05n5j1xpm0000gn/T/ipykernel_74008/3929562039.py:26: FutureWarning:\n",
      "\n",
      "Series.__getitem__ treating keys as positions is deprecated. In a future version, integer keys will always be treated as labels (consistent with DataFrame behavior). To access a value by position, use `ser.iloc[pos]`\n",
      "\n",
      "/var/folders/67/nn0_dngd0cngz2f05n5j1xpm0000gn/T/ipykernel_74008/3929562039.py:46: FutureWarning:\n",
      "\n",
      "Series.__getitem__ treating keys as positions is deprecated. In a future version, integer keys will always be treated as labels (consistent with DataFrame behavior). To access a value by position, use `ser.iloc[pos]`\n",
      "\n",
      "/var/folders/67/nn0_dngd0cngz2f05n5j1xpm0000gn/T/ipykernel_74008/3929562039.py:47: FutureWarning:\n",
      "\n",
      "Series.__getitem__ treating keys as positions is deprecated. In a future version, integer keys will always be treated as labels (consistent with DataFrame behavior). To access a value by position, use `ser.iloc[pos]`\n",
      "\n"
     ]
    }
   ],
   "source": [
    "def visualize_multimodal_network(integrated_network, centrality_type='eigen'):\n",
    "    \"\"\"Create interactive visualization of multimodal network\"\"\"\n",
    "    # Create base map\n",
    "    center_lat = 50.0614\n",
    "    center_lon = 19.9372\n",
    "    m = folium.Map(location=[center_lat, center_lon], zoom_start=12, tiles='CartoDB positron')\n",
    "    \n",
    "    # Color scheme for road types\n",
    "    road_colors = {\n",
    "        'motorway': '#FF0000',\n",
    "        'trunk': '#FF4500',\n",
    "        'primary': '#FFA500',\n",
    "        'secondary': '#FFD700',\n",
    "        'tertiary': '#FFFF00',\n",
    "        'unclassified': '#ADFF2F',\n",
    "        'residential': '#7CFC00',\n",
    "        'service': '#98FB98',\n",
    "        'living_street': '#90EE90',\n",
    "        'bus': '#0000FF',\n",
    "        'unknown': '#A9A9A9'\n",
    "    }\n",
    "    \n",
    "    # Get centrality values\n",
    "    centrality = multimodal_centrality[centrality_type]\n",
    "    min_centrality = centrality.min()[0]\n",
    "    max_centrality = centrality.max()[0]\n",
    "    \n",
    "    # Function to normalize centrality\n",
    "    def normalize_centrality(val):\n",
    "        return (val - min_centrality) / (max_centrality - min_centrality)\n",
    "    \n",
    "    # Add edges to map\n",
    "    for u, v, data in integrated_network.edges(data=True):\n",
    "        # Get coordinates\n",
    "        u_node = integrated_network.nodes[u]\n",
    "        v_node = integrated_network.nodes[v]\n",
    "        \n",
    "        # Determine color\n",
    "        if data['type'] == 'road':\n",
    "            road_type = data.get('road_size', 'unknown')\n",
    "            color = road_colors.get(road_type, road_colors['unknown'])\n",
    "        else:\n",
    "            color = road_colors['bus']\n",
    "        \n",
    "        # Get centrality (average of start and end nodes)\n",
    "        u_centrality = centrality.loc[u][0] if u in centrality.index else min_centrality\n",
    "        v_centrality = centrality.loc[v][0] if v in centrality.index else min_centrality\n",
    "        avg_centrality = (u_centrality + v_centrality) / 2\n",
    "        \n",
    "        # Set weight based on centrality\n",
    "        weight = 1 + 5 * normalize_centrality(avg_centrality)\n",
    "        \n",
    "        # Create polyline\n",
    "        folium.PolyLine(\n",
    "            locations=[[u_node['y'], u_node['x']], [v_node['y'], v_node['x']]],\n",
    "            color=color,\n",
    "            weight=weight,\n",
    "            opacity=0.7,\n",
    "            popup=f\"Type: {data.get('road_size', 'bus')}<br>Capacity: {data.get('flow_capacity', 'N/A')}\"\n",
    "        ).add_to(m)\n",
    "    \n",
    "    # Add legend\n",
    "    legend_html = '''\n",
    "    <div style=\"position: fixed; bottom: 50px; left: 50px; width: 250px; height: 380px; \n",
    "         border:2px solid grey; z-index:9999; font-size:14px;\n",
    "         background-color:white; padding:10px;\">\n",
    "         <b>Network Legend</b><br>\n",
    "         <div style=\"margin-top:10px;\"><b>Road Types:</b></div>\n",
    "    '''\n",
    "    \n",
    "    for road_type, color in road_colors.items():\n",
    "        legend_html += f'<i style=\"background:{color}; width:20px; height:20px; display:inline-block;\"></i> {road_type}<br>'\n",
    "    \n",
    "    legend_html += '''\n",
    "    <div style=\"margin-top:20px;\"><b>Line Thickness:</b><br>\n",
    "        <span style=\"border-bottom: 1px solid black; width: 20px; display: inline-block;\">&nbsp;</span> Low centrality<br>\n",
    "        <span style=\"border-bottom: 6px solid black; width: 20px; display: inline-block;\">&nbsp;</span> High centrality\n",
    "    </div>\n",
    "    </div>\n",
    "    '''\n",
    "    \n",
    "    m.get_root().html.add_child(folium.Element(legend_html))\n",
    "    \n",
    "    # Add title\n",
    "    title_html = f'''\n",
    "        <h3 align=\"center\" style=\"font-size:16px\"><b>Krakow Multimodal Network - {centrality_type.capitalize()} Centrality</b></h3>\n",
    "        '''\n",
    "    m.get_root().html.add_child(folium.Element(title_html))\n",
    "    \n",
    "    return m\n",
    "\n",
    "# Visualize multimodal network\n",
    "multimodal_map = visualize_multimodal_network(integrated_network, 'eigen')\n",
    "full_path = os.path.join(MERGED_DIR, 'multimodal_network_eigen.html')\n",
    "multimodal_map.save(full_path)"
   ]
  },
  {
   "cell_type": "markdown",
   "metadata": {},
   "source": [
    "## 12. Critical Node Analysis"
   ]
  },
  {
   "cell_type": "code",
   "execution_count": null,
   "metadata": {},
   "outputs": [],
   "source": [
    "def analyze_critical_nodes(multimodal_centrality, integrated_network):\n",
    "    \"\"\"Identify and analyze critical nodes in the multimodal network\"\"\"\n",
    "    # Combine centrality measures\n",
    "    centrality_df = multimodal_centrality['eigen'].rename(columns={'eigen': 'eigenvector'})\n",
    "    centrality_df = centrality_df.join(multimodal_centrality['pagerank'])\n",
    "    centrality_df = centrality_df.join(multimodal_centrality['betweenness'])\n",
    "    centrality_df = centrality_df.join(multimodal_centrality['degree'])\n",
    "    \n",
    "    # Normalize centrality scores\n",
    "    for col in centrality_df.columns:\n",
    "        centrality_df[f'{col}_norm'] = (\n",
    "            centrality_df[col] - centrality_df[col].min()\n",
    "        ) / (centrality_df[col].max() - centrality_df[col].min())\n",
    "    \n",
    "    # Create composite score\n",
    "    centrality_df['composite_score'] = centrality_df[[f'{col}_norm' for col in centrality_df.columns[:4]]].mean(axis=1)\n",
    "    \n",
    "    # Get top 10 critical nodes\n",
    "    critical_nodes = centrality_df.sort_values('composite_score', ascending=False).head(10)\n",
    "    \n",
    "    # Visualize\n",
    "    plt.figure(figsize=(12, 8))\n",
    "    critical_nodes[['eigenvector', 'pagerank', 'betweenness', 'degree']].plot(kind='bar')\n",
    "    plt.title('Top 10 Critical Nodes by Centrality Measures')\n",
    "    plt.ylabel('Centrality Score')\n",
    "    plt.xlabel('Node ID')\n",
    "    plt.xticks(rotation=45)\n",
    "    plt.legend(title='Centrality Type')\n",
    "    plt.tight_layout()\n",
    "    plt.show()\n",
    "    \n",
    "    # Analyze node types\n",
    "    node_types = []\n",
    "    for node in critical_nodes.index:\n",
    "        if '[ROAD]' in node:\n",
    "            node_types.append('Road Intersection')\n",
    "        elif '[BUS]' in node:\n",
    "            node_types.append('Bus Stop')\n",
    "        else:\n",
    "            node_types.append('Unknown')\n",
    "    \n",
    "    critical_nodes['type'] = node_types\n",
    "    \n",
    "    # Print insights\n",
    "    print(\"\\nCritical Node Types:\")\n",
    "    print(critical_nodes['type'].value_counts())\n",
    "    \n",
    "    print(\"\\nTop Critical Nodes:\")\n",
    "    print(critical_nodes.head())\n",
    "    \n",
    "    return critical_nodes\n",
    "\n",
    "# Analyze critical nodes\n",
    "critical_nodes = analyze_critical_nodes(multimodal_centrality, integrated_network)"
   ]
  },
  {
   "cell_type": "markdown",
   "metadata": {},
   "source": [
    "## 13. Policy Recommendations"
   ]
  },
  {
   "cell_type": "code",
   "execution_count": null,
   "metadata": {},
   "outputs": [],
   "source": [
    "def generate_policy_recommendations(critical_nodes):\n",
    "    \"\"\"Generate policy recommendations based on critical nodes\"\"\"\n",
    "    print(\"Policy Recommendations Based on Critical Node Analysis:\")\n",
    "    \n",
    "    # Recommendation framework\n",
    "    recommendations = {\n",
    "        \"Road Intersection\": [\n",
    "            \"Implement intelligent traffic light sequencing\",\n",
    "            \"Add dedicated turning lanes\",\n",
    "            \"Consider grade separation solutions\",\n",
    "            \"Improve pedestrian crossing infrastructure\"\n",
    "        ],\n",
    "        \"Bus Stop\": [\n",
    "            \"Expand platform capacity\",\n",
    "            \"Implement real-time arrival information\",\n",
    "            \"Improve pedestrian access routes\",\n",
    "            \"Add weather protection features\",\n",
    "            \"Create dedicated bus lanes approaching the stop\"\n",
    "        ]\n",
    "    }\n",
    "    \n",
    "    # Generate recommendations for top nodes\n",
    "    for i, (node, data) in enumerate(critical_nodes.head(3).iterrows(), 1):\n",
    "        node_type = data['type']\n",
    "        \n",
    "        print(f\"\\nRecommendations for Node #{i} ({node_type}):\")\n",
    "        print(f\"- Composite Criticality Score: {data['composite_score']:.3f}\")\n",
    "        \n",
    "        for rec in recommendations[node_type]:\n",
    "            print(f\"- {rec}\")\n",
    "    \n",
    "    # System-wide recommendations\n",
    "    print(\"\"\"\\nSystem-wide Recommendations:\n",
    "- Create redundancy for critical corridors\n",
    "- Develop congestion pricing for high-centrality zones\n",
    "- Prioritize maintenance on critical infrastructure\n",
    "- Implement real-time monitoring for critical nodes\"\"\")\n",
    "\n",
    "# Generate recommendations\n",
    "generate_policy_recommendations(critical_nodes)"
   ]
  }
 ],
 "metadata": {
  "kernelspec": {
   "display_name": "datascience",
   "language": "python",
   "name": "python3"
  },
  "language_info": {
   "codemirror_mode": {
    "name": "ipython",
    "version": 3
   },
   "file_extension": ".py",
   "mimetype": "text/x-python",
   "name": "python",
   "nbconvert_exporter": "python",
   "pygments_lexer": "ipython3",
   "version": "3.10.17"
  }
 },
 "nbformat": 4,
 "nbformat_minor": 4
}
