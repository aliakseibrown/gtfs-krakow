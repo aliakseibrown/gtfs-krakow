{
 "cells": [
  {
   "cell_type": "markdown",
   "metadata": {},
   "source": [
    "# Krakow Transport Network Analysis\n",
    "## Combining GTFS and OSM Data to Identify Critical Infrastructure\n",
    "\n",
    "---\n",
    "\n",
    "### Overview\n",
    "This notebook analyzes Krakow's transport network by combining:\n",
    "- **GTFS data**: Public transport schedules and routes\n",
    "- **OSM data**: Street network infrastructure\n",
    "\n",
    "We'll identify critical nodes using graph centrality metrics and visualize the integrated network."
   ]
  },
  {
   "cell_type": "code",
   "execution_count": null,
   "metadata": {},
   "outputs": [
    {
     "name": "stdout",
     "output_type": "stream",
     "text": [
      "Extracted gtfs.zip to gtfs/\n"
     ]
    }
   ],
   "source": [
    "# Import required libraries\n",
    "import os\n",
    "import pandas as pd\n",
    "import numpy as np\n",
    "import networkx as nx\n",
    "import osmnx as ox\n",
    "import geopandas as gpd\n",
    "import matplotlib.pyplot as plt\n",
    "import plotly.express as px\n",
    "import folium\n",
    "from folium.plugins import MarkerCluster\n",
    "from shapely.geometry import Point, LineString\n",
    "from scipy.spatial import cKDTree\n",
    "from matplotlib.colors import TwoSlopeNorm\n",
    "import plotly.graph_objects as go\n",
    "import zipfile\n",
    "\n",
    "\n",
    "# Configure OSMnx\n",
    "ox.settings.log_console = True\n",
    "ox.settings.use_cache = True\n",
    "ox.settings.timeout = 600\n",
    "\n",
    "# Check if the GTFS data directory exists, if not, extract from zip\n",
    "if not os.path.exists('gtfs'):\n",
    "    if os.path.exists('gtfs.zip'):\n",
    "        with zipfile.ZipFile('gtfs.zip', 'r') as zip_ref:\n",
    "            zip_ref.extractall('gtfs')\n",
    "        print(\"Extracted gtfs.zip to gtfs/\")\n",
    "    else:\n",
    "        print(\"gtfs.zip not found. Please provide the GTFS data.\")\n",
    "\n",
    "# Set the directory for saving analysis results\n",
    "RESULTS_DIR = 'results'\n",
    "GTFS_KRK_A = \"gtfs/GTFS_KRK_A\"\n",
    "\n",
    "GTFS_DIR = os.path.join(RESULTS_DIR, 'gtfs_graph')\n",
    "OSM_DIR = os.path.join(RESULTS_DIR, 'osm_graph')\n",
    "MERGED_DIR = os.path.join(RESULTS_DIR, 'merged_gtfs_osm')\n",
    "\n",
    "# Create directories if they do not exist\n",
    "if not os.path.exists(GTFS_DIR):\n",
    "    os.makedirs(GTFS_DIR)\n",
    "if not os.path.exists(OSM_DIR):\n",
    "    os.makedirs(OSM_DIR)\n",
    "if not os.path.exists(MERGED_DIR):\n",
    "    os.makedirs(MERGED_DIR)"
   ]
  },
  {
   "cell_type": "markdown",
   "metadata": {},
   "source": [
    "## 1. Load and Prepare GTFS Data"
   ]
  },
  {
   "cell_type": "code",
   "execution_count": 37,
   "metadata": {},
   "outputs": [
    {
     "name": "stdout",
     "output_type": "stream",
     "text": [
      "Loaded shapes.txt: 834851 rows\n",
      "Loaded stops.txt: 3010 rows\n",
      "Loaded trips.txt: 40368 rows\n",
      "Loaded routes.txt: 167 rows\n",
      "Loaded stop_times.txt: 882311 rows\n",
      "Loaded calendar.txt: 5 rows\n",
      "Loaded calendar_dates.txt: 8 rows\n"
     ]
    }
   ],
   "source": [
    "def load_gtfs(data_dir=GTFS_KRK_A):\n",
    "    \"\"\"Load and preprocess GTFS datasets\"\"\"\n",
    "    files = {\n",
    "        'shapes': 'shapes.txt',\n",
    "        'stops': 'stops.txt',\n",
    "        'trips': 'trips.txt',\n",
    "        'routes': 'routes.txt',\n",
    "        'stop_times': 'stop_times.txt',\n",
    "        'calendar': 'calendar.txt',\n",
    "        'calendar_dates': 'calendar_dates.txt'\n",
    "    }\n",
    "    \n",
    "    dfs = {}\n",
    "    for name, file in files.items():\n",
    "        try:\n",
    "            dfs[name] = pd.read_csv(f'{data_dir}/{file}')\n",
    "            print(f\"Loaded {file}: {dfs[name].shape[0]} rows\")\n",
    "        except FileNotFoundError:\n",
    "            print(f\"Warning: {file} not found\")\n",
    "    return dfs\n",
    "\n",
    "# Load data\n",
    "gtfs = load_gtfs()"
   ]
  },
  {
   "cell_type": "markdown",
   "metadata": {},
   "source": [
    "## 2. Analyze Transit Operations"
   ]
  },
  {
   "cell_type": "code",
   "execution_count": 3,
   "metadata": {},
   "outputs": [
    {
     "data": {
      "application/vnd.plotly.v1+json": {
       "config": {
        "plotlyServerURL": "https://plot.ly"
       },
       "data": [
        {
         "orientation": "h",
         "text": {
          "bdata": "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",
          "dtype": "f8"
         },
         "textposition": "outside",
         "type": "bar",
         "x": {
          "bdata": "dgBxACcAJwBQAFAAIgB+AEMAQwA1ADUANgA2AEQAQgBNAE0AtQC1ADkAOQA+AD4AYQBhAHsAgAA/AD8AMwAzAEIAQgA2ADsAYQBhADcANwCZAJkAKAArAFYAVgCxALEAfQGDAXsASQCMAIwAXgBgAJAAkABpAGkAFQEVARUBFQGCAIIAbwByAB4AGQAZABkAGQAeAB4AHgAMAAwADAAKAAwACgAMAAoAlgCWAB4AIwAEAAQAGQAZAAIAAgAiACIAcwB0AAQABABQAFAANgA2AAkBBAHJAMkAFQEYAdEA0QCQAJAAFwEcAWIAXwAkACQAjgAzADMABAAEAAQABAAIAQgBsAGrAaYAnwDHAMkAlQCdAN8A3wBcAFwAkwCTACoAKgA1ATUBCwAMAAoACgAKAAoAKAAoADMAMwBmAGYApwCnABIBFQFOAE4AtwC3AAUABQCOAI4APgA+ACgAKAACAQIBOQA5AEMAQwBfAF8AtAC0ABABFQEdARsBGAEaARUAFQAAAQABfgCBAJEAkQAXARwBAwEDARwBjgBUAFQAPAFEARoBHAECAQIBkwCWAMsByQEVARUB8ADwABQBFAEvACkAfgB+ALoAvACTAJMA6gDqAGYAaQAQABAAYABbADoAOgBCAEIA1ADPAHsAewAmACYARQBFAIoAigBRAFcAQgBFADAAMAA8ATwBdwB3ANcA1wDcANwAWQBZAFIAVwBGAEYAfwB/AD0AQQCqAKoAKQApADoAOgAqACoAZwBpAKcApwAqACoAdgB7AGEAYQBtAG0AXQBdAF0AYgAuAC4ApACkAH8AhAB9AIIAWwBbAH8AfwAYABgAcwBzAEQARAAvADAAOAA6ALYAtgBNAE0AcQB0AHYAdgA=",
          "dtype": "i2"
         },
         "y": [
          "route_100 - 0",
          "route_100 - 1",
          "route_101 - 0",
          "route_101 - 1",
          "route_103 - 0",
          "route_103 - 1",
          "route_104 - 0",
          "route_104 - 1",
          "route_105 - 0",
          "route_105 - 1",
          "route_106 - 0",
          "route_106 - 1",
          "route_107 - 0",
          "route_107 - 1",
          "route_108 - 0",
          "route_108 - 1",
          "route_109 - 0",
          "route_109 - 1",
          "route_11 - 0",
          "route_11 - 1",
          "route_110 - 0",
          "route_110 - 1",
          "route_111 - 0",
          "route_111 - 1",
          "route_112 - 0",
          "route_112 - 1",
          "route_113 - 0",
          "route_113 - 1",
          "route_114 - 0",
          "route_114 - 1",
          "route_115 - 0",
          "route_115 - 1",
          "route_116 - 0",
          "route_116 - 1",
          "route_117 - 0",
          "route_117 - 1",
          "route_118 - 0",
          "route_118 - 1",
          "route_119 - 0",
          "route_119 - 1",
          "route_120 - 0",
          "route_120 - 1",
          "route_121 - 0",
          "route_121 - 1",
          "route_124 - 0",
          "route_124 - 1",
          "route_125 - 0",
          "route_125 - 1",
          "route_126 - 0",
          "route_126 - 1",
          "route_127 - 0",
          "route_127 - 1",
          "route_128 - 0",
          "route_128 - 1",
          "route_129 - 0",
          "route_129 - 1",
          "route_130 - 0",
          "route_130 - 1",
          "route_133 - 0",
          "route_133 - 1",
          "route_135 - 0",
          "route_135 - 1",
          "route_136 - 0",
          "route_136 - 1",
          "route_137 - 0",
          "route_137 - 1",
          "route_138 - 0",
          "route_138 - 1",
          "route_139 - 0",
          "route_139 - 1",
          "route_140 - 0",
          "route_140 - 1",
          "route_141 - 0",
          "route_141 - 1",
          "route_142 - 0",
          "route_142 - 1",
          "route_143 - 0",
          "route_143 - 1",
          "route_147 - 0",
          "route_147 - 1",
          "route_148 - 0",
          "route_148 - 1",
          "route_149 - 0",
          "route_149 - 1",
          "route_15 - 0",
          "route_15 - 1",
          "route_151 - 0",
          "route_151 - 1",
          "route_152 - 0",
          "route_152 - 1",
          "route_153 - 0",
          "route_153 - 1",
          "route_154 - 0",
          "route_154 - 1",
          "route_157 - 0",
          "route_157 - 1",
          "route_16 - 0",
          "route_16 - 1",
          "route_162 - 0",
          "route_162 - 1",
          "route_163 - 0",
          "route_163 - 1",
          "route_164 - 0",
          "route_164 - 1",
          "route_165 - 0",
          "route_165 - 1",
          "route_166 - 0",
          "route_166 - 1",
          "route_169 - 0",
          "route_169 - 1",
          "route_17 - 0",
          "route_17 - 1",
          "route_18 - 0",
          "route_18 - 1",
          "route_19 - 0",
          "route_19 - 1",
          "route_196 - 0",
          "route_196 - 1",
          "route_197 - 0",
          "route_197 - 1",
          "route_199 - 0",
          "route_20 - 0",
          "route_20 - 1",
          "route_202 - 0",
          "route_202 - 1",
          "route_203 - 0",
          "route_203 - 1",
          "route_21 - 0",
          "route_21 - 1",
          "route_23 - 0",
          "route_23 - 1",
          "route_25 - 0",
          "route_25 - 1",
          "route_3 - 0",
          "route_3 - 1",
          "route_30 - 0",
          "route_30 - 1",
          "route_32 - 0",
          "route_32 - 1",
          "route_321 - 0",
          "route_321 - 1",
          "route_329 - 0",
          "route_329 - 1",
          "route_330 - 0",
          "route_330 - 1",
          "route_349 - 0",
          "route_349 - 1",
          "route_359 - 0",
          "route_359 - 1",
          "route_387 - 0",
          "route_387 - 1",
          "route_388 - 0",
          "route_388 - 1",
          "route_39 - 0",
          "route_39 - 1",
          "route_425 - 0",
          "route_425 - 1",
          "route_431 - 0",
          "route_431 - 1",
          "route_432 - 0",
          "route_432 - 1",
          "route_477 - 0",
          "route_477 - 1",
          "route_481 - 0",
          "route_481 - 1",
          "route_482 - 0",
          "route_482 - 1",
          "route_495 - 0",
          "route_495 - 1",
          "route_5 - 0",
          "route_5 - 1",
          "route_507 - 0",
          "route_507 - 1",
          "route_513 - 0",
          "route_513 - 1",
          "route_55 - 0",
          "route_55 - 1",
          "route_569 - 0",
          "route_569 - 1",
          "route_575 - 0",
          "route_575 - 1",
          "route_576 - 0",
          "route_576 - 1",
          "route_580 - 0",
          "route_580 - 1",
          "route_582 - 0",
          "route_582 - 1",
          "route_583 - 0",
          "route_583 - 1",
          "route_587 - 0",
          "route_587 - 1",
          "route_588 - 0",
          "route_588 - 1",
          "route_589 - 0",
          "route_589 - 1",
          "route_592 - 0",
          "route_592 - 1",
          "route_594 - 0",
          "route_594 - 1",
          "route_596 - 0",
          "route_596 - 1",
          "route_598 - 0",
          "route_598 - 1",
          "route_599 - 0",
          "route_599 - 1",
          "route_600 - 0",
          "route_600 - 1",
          "route_601 - 0",
          "route_601 - 1",
          "route_602 - 0",
          "route_602 - 1",
          "route_603 - 0",
          "route_603 - 1",
          "route_604 - 0",
          "route_604 - 1",
          "route_606 - 0",
          "route_606 - 1",
          "route_608 - 0",
          "route_608 - 1",
          "route_61 - 0",
          "route_61 - 1",
          "route_612 - 0",
          "route_612 - 1",
          "route_614 - 0",
          "route_614 - 1",
          "route_615 - 0",
          "route_615 - 1",
          "route_616 - 0",
          "route_616 - 1",
          "route_617 - 0",
          "route_617 - 1",
          "route_62 - 0",
          "route_62 - 1",
          "route_623 - 0",
          "route_623 - 1",
          "route_624 - 0",
          "route_624 - 1",
          "route_660 - 0",
          "route_661 - 0",
          "route_68 - 0",
          "route_68 - 1",
          "route_69 - 0",
          "route_69 - 1",
          "route_7 - 0",
          "route_7 - 1",
          "route_70 - 0",
          "route_70 - 1",
          "route_71 - 0",
          "route_71 - 1",
          "route_72 - 0",
          "route_72 - 1",
          "route_73 - 0",
          "route_73 - 1",
          "route_74 - 0",
          "route_74 - 1",
          "route_75 - 0",
          "route_75 - 1",
          "route_752 - 0",
          "route_752 - 1",
          "route_753 - 0",
          "route_753 - 1",
          "route_76 - 0",
          "route_76 - 1",
          "route_760 - 0",
          "route_760 - 1",
          "route_761 - 0",
          "route_761 - 1",
          "route_769 - 0",
          "route_769 - 1",
          "route_77 - 0",
          "route_77 - 1",
          "route_770 - 0",
          "route_770 - 1",
          "route_774 - 0",
          "route_774 - 1",
          "route_78 - 0",
          "route_78 - 1",
          "route_782 - 0",
          "route_782 - 1",
          "route_79 - 0",
          "route_79 - 1",
          "route_80 - 0",
          "route_80 - 1",
          "route_81 - 0",
          "route_81 - 1",
          "route_82 - 0",
          "route_82 - 1",
          "route_821 - 0",
          "route_821 - 1",
          "route_822 - 0",
          "route_822 - 1",
          "route_84 - 0",
          "route_84 - 1",
          "route_846 - 0",
          "route_846 - 1",
          "route_85 - 0",
          "route_85 - 1",
          "route_86 - 0",
          "route_86 - 1",
          "route_864 - 0",
          "route_864 - 1",
          "route_87 - 0",
          "route_87 - 1",
          "route_872 - 0",
          "route_872 - 1",
          "route_873 - 0",
          "route_873 - 1",
          "route_88 - 0",
          "route_88 - 1",
          "route_89 - 0",
          "route_89 - 1",
          "route_91 - 0",
          "route_91 - 1",
          "route_912 - 0",
          "route_912 - 1",
          "route_92 - 0",
          "route_92 - 1",
          "route_93 - 0",
          "route_93 - 1",
          "route_94 - 0",
          "route_94 - 1",
          "route_95 - 0",
          "route_95 - 1",
          "route_96 - 0",
          "route_96 - 1",
          "route_97 - 0",
          "route_97 - 1",
          "route_98 - 0",
          "route_98 - 1",
          "route_99 - 0",
          "route_99 - 1"
         ]
        }
       ],
       "layout": {
        "height": 800,
        "template": {
         "data": {
          "bar": [
           {
            "error_x": {
             "color": "#2a3f5f"
            },
            "error_y": {
             "color": "#2a3f5f"
            },
            "marker": {
             "line": {
              "color": "#E5ECF6",
              "width": 0.5
             },
             "pattern": {
              "fillmode": "overlay",
              "size": 10,
              "solidity": 0.2
             }
            },
            "type": "bar"
           }
          ],
          "barpolar": [
           {
            "marker": {
             "line": {
              "color": "#E5ECF6",
              "width": 0.5
             },
             "pattern": {
              "fillmode": "overlay",
              "size": 10,
              "solidity": 0.2
             }
            },
            "type": "barpolar"
           }
          ],
          "carpet": [
           {
            "aaxis": {
             "endlinecolor": "#2a3f5f",
             "gridcolor": "white",
             "linecolor": "white",
             "minorgridcolor": "white",
             "startlinecolor": "#2a3f5f"
            },
            "baxis": {
             "endlinecolor": "#2a3f5f",
             "gridcolor": "white",
             "linecolor": "white",
             "minorgridcolor": "white",
             "startlinecolor": "#2a3f5f"
            },
            "type": "carpet"
           }
          ],
          "choropleth": [
           {
            "colorbar": {
             "outlinewidth": 0,
             "ticks": ""
            },
            "type": "choropleth"
           }
          ],
          "contour": [
           {
            "colorbar": {
             "outlinewidth": 0,
             "ticks": ""
            },
            "colorscale": [
             [
              0,
              "#0d0887"
             ],
             [
              0.1111111111111111,
              "#46039f"
             ],
             [
              0.2222222222222222,
              "#7201a8"
             ],
             [
              0.3333333333333333,
              "#9c179e"
             ],
             [
              0.4444444444444444,
              "#bd3786"
             ],
             [
              0.5555555555555556,
              "#d8576b"
             ],
             [
              0.6666666666666666,
              "#ed7953"
             ],
             [
              0.7777777777777778,
              "#fb9f3a"
             ],
             [
              0.8888888888888888,
              "#fdca26"
             ],
             [
              1,
              "#f0f921"
             ]
            ],
            "type": "contour"
           }
          ],
          "contourcarpet": [
           {
            "colorbar": {
             "outlinewidth": 0,
             "ticks": ""
            },
            "type": "contourcarpet"
           }
          ],
          "heatmap": [
           {
            "colorbar": {
             "outlinewidth": 0,
             "ticks": ""
            },
            "colorscale": [
             [
              0,
              "#0d0887"
             ],
             [
              0.1111111111111111,
              "#46039f"
             ],
             [
              0.2222222222222222,
              "#7201a8"
             ],
             [
              0.3333333333333333,
              "#9c179e"
             ],
             [
              0.4444444444444444,
              "#bd3786"
             ],
             [
              0.5555555555555556,
              "#d8576b"
             ],
             [
              0.6666666666666666,
              "#ed7953"
             ],
             [
              0.7777777777777778,
              "#fb9f3a"
             ],
             [
              0.8888888888888888,
              "#fdca26"
             ],
             [
              1,
              "#f0f921"
             ]
            ],
            "type": "heatmap"
           }
          ],
          "histogram": [
           {
            "marker": {
             "pattern": {
              "fillmode": "overlay",
              "size": 10,
              "solidity": 0.2
             }
            },
            "type": "histogram"
           }
          ],
          "histogram2d": [
           {
            "colorbar": {
             "outlinewidth": 0,
             "ticks": ""
            },
            "colorscale": [
             [
              0,
              "#0d0887"
             ],
             [
              0.1111111111111111,
              "#46039f"
             ],
             [
              0.2222222222222222,
              "#7201a8"
             ],
             [
              0.3333333333333333,
              "#9c179e"
             ],
             [
              0.4444444444444444,
              "#bd3786"
             ],
             [
              0.5555555555555556,
              "#d8576b"
             ],
             [
              0.6666666666666666,
              "#ed7953"
             ],
             [
              0.7777777777777778,
              "#fb9f3a"
             ],
             [
              0.8888888888888888,
              "#fdca26"
             ],
             [
              1,
              "#f0f921"
             ]
            ],
            "type": "histogram2d"
           }
          ],
          "histogram2dcontour": [
           {
            "colorbar": {
             "outlinewidth": 0,
             "ticks": ""
            },
            "colorscale": [
             [
              0,
              "#0d0887"
             ],
             [
              0.1111111111111111,
              "#46039f"
             ],
             [
              0.2222222222222222,
              "#7201a8"
             ],
             [
              0.3333333333333333,
              "#9c179e"
             ],
             [
              0.4444444444444444,
              "#bd3786"
             ],
             [
              0.5555555555555556,
              "#d8576b"
             ],
             [
              0.6666666666666666,
              "#ed7953"
             ],
             [
              0.7777777777777778,
              "#fb9f3a"
             ],
             [
              0.8888888888888888,
              "#fdca26"
             ],
             [
              1,
              "#f0f921"
             ]
            ],
            "type": "histogram2dcontour"
           }
          ],
          "mesh3d": [
           {
            "colorbar": {
             "outlinewidth": 0,
             "ticks": ""
            },
            "type": "mesh3d"
           }
          ],
          "parcoords": [
           {
            "line": {
             "colorbar": {
              "outlinewidth": 0,
              "ticks": ""
             }
            },
            "type": "parcoords"
           }
          ],
          "pie": [
           {
            "automargin": true,
            "type": "pie"
           }
          ],
          "scatter": [
           {
            "fillpattern": {
             "fillmode": "overlay",
             "size": 10,
             "solidity": 0.2
            },
            "type": "scatter"
           }
          ],
          "scatter3d": [
           {
            "line": {
             "colorbar": {
              "outlinewidth": 0,
              "ticks": ""
             }
            },
            "marker": {
             "colorbar": {
              "outlinewidth": 0,
              "ticks": ""
             }
            },
            "type": "scatter3d"
           }
          ],
          "scattercarpet": [
           {
            "marker": {
             "colorbar": {
              "outlinewidth": 0,
              "ticks": ""
             }
            },
            "type": "scattercarpet"
           }
          ],
          "scattergeo": [
           {
            "marker": {
             "colorbar": {
              "outlinewidth": 0,
              "ticks": ""
             }
            },
            "type": "scattergeo"
           }
          ],
          "scattergl": [
           {
            "marker": {
             "colorbar": {
              "outlinewidth": 0,
              "ticks": ""
             }
            },
            "type": "scattergl"
           }
          ],
          "scattermap": [
           {
            "marker": {
             "colorbar": {
              "outlinewidth": 0,
              "ticks": ""
             }
            },
            "type": "scattermap"
           }
          ],
          "scattermapbox": [
           {
            "marker": {
             "colorbar": {
              "outlinewidth": 0,
              "ticks": ""
             }
            },
            "type": "scattermapbox"
           }
          ],
          "scatterpolar": [
           {
            "marker": {
             "colorbar": {
              "outlinewidth": 0,
              "ticks": ""
             }
            },
            "type": "scatterpolar"
           }
          ],
          "scatterpolargl": [
           {
            "marker": {
             "colorbar": {
              "outlinewidth": 0,
              "ticks": ""
             }
            },
            "type": "scatterpolargl"
           }
          ],
          "scatterternary": [
           {
            "marker": {
             "colorbar": {
              "outlinewidth": 0,
              "ticks": ""
             }
            },
            "type": "scatterternary"
           }
          ],
          "surface": [
           {
            "colorbar": {
             "outlinewidth": 0,
             "ticks": ""
            },
            "colorscale": [
             [
              0,
              "#0d0887"
             ],
             [
              0.1111111111111111,
              "#46039f"
             ],
             [
              0.2222222222222222,
              "#7201a8"
             ],
             [
              0.3333333333333333,
              "#9c179e"
             ],
             [
              0.4444444444444444,
              "#bd3786"
             ],
             [
              0.5555555555555556,
              "#d8576b"
             ],
             [
              0.6666666666666666,
              "#ed7953"
             ],
             [
              0.7777777777777778,
              "#fb9f3a"
             ],
             [
              0.8888888888888888,
              "#fdca26"
             ],
             [
              1,
              "#f0f921"
             ]
            ],
            "type": "surface"
           }
          ],
          "table": [
           {
            "cells": {
             "fill": {
              "color": "#EBF0F8"
             },
             "line": {
              "color": "white"
             }
            },
            "header": {
             "fill": {
              "color": "#C8D4E3"
             },
             "line": {
              "color": "white"
             }
            },
            "type": "table"
           }
          ]
         },
         "layout": {
          "annotationdefaults": {
           "arrowcolor": "#2a3f5f",
           "arrowhead": 0,
           "arrowwidth": 1
          },
          "autotypenumbers": "strict",
          "coloraxis": {
           "colorbar": {
            "outlinewidth": 0,
            "ticks": ""
           }
          },
          "colorscale": {
           "diverging": [
            [
             0,
             "#8e0152"
            ],
            [
             0.1,
             "#c51b7d"
            ],
            [
             0.2,
             "#de77ae"
            ],
            [
             0.3,
             "#f1b6da"
            ],
            [
             0.4,
             "#fde0ef"
            ],
            [
             0.5,
             "#f7f7f7"
            ],
            [
             0.6,
             "#e6f5d0"
            ],
            [
             0.7,
             "#b8e186"
            ],
            [
             0.8,
             "#7fbc41"
            ],
            [
             0.9,
             "#4d9221"
            ],
            [
             1,
             "#276419"
            ]
           ],
           "sequential": [
            [
             0,
             "#0d0887"
            ],
            [
             0.1111111111111111,
             "#46039f"
            ],
            [
             0.2222222222222222,
             "#7201a8"
            ],
            [
             0.3333333333333333,
             "#9c179e"
            ],
            [
             0.4444444444444444,
             "#bd3786"
            ],
            [
             0.5555555555555556,
             "#d8576b"
            ],
            [
             0.6666666666666666,
             "#ed7953"
            ],
            [
             0.7777777777777778,
             "#fb9f3a"
            ],
            [
             0.8888888888888888,
             "#fdca26"
            ],
            [
             1,
             "#f0f921"
            ]
           ],
           "sequentialminus": [
            [
             0,
             "#0d0887"
            ],
            [
             0.1111111111111111,
             "#46039f"
            ],
            [
             0.2222222222222222,
             "#7201a8"
            ],
            [
             0.3333333333333333,
             "#9c179e"
            ],
            [
             0.4444444444444444,
             "#bd3786"
            ],
            [
             0.5555555555555556,
             "#d8576b"
            ],
            [
             0.6666666666666666,
             "#ed7953"
            ],
            [
             0.7777777777777778,
             "#fb9f3a"
            ],
            [
             0.8888888888888888,
             "#fdca26"
            ],
            [
             1,
             "#f0f921"
            ]
           ]
          },
          "colorway": [
           "#636efa",
           "#EF553B",
           "#00cc96",
           "#ab63fa",
           "#FFA15A",
           "#19d3f3",
           "#FF6692",
           "#B6E880",
           "#FF97FF",
           "#FECB52"
          ],
          "font": {
           "color": "#2a3f5f"
          },
          "geo": {
           "bgcolor": "white",
           "lakecolor": "white",
           "landcolor": "#E5ECF6",
           "showlakes": true,
           "showland": true,
           "subunitcolor": "white"
          },
          "hoverlabel": {
           "align": "left"
          },
          "hovermode": "closest",
          "mapbox": {
           "style": "light"
          },
          "paper_bgcolor": "white",
          "plot_bgcolor": "#E5ECF6",
          "polar": {
           "angularaxis": {
            "gridcolor": "white",
            "linecolor": "white",
            "ticks": ""
           },
           "bgcolor": "#E5ECF6",
           "radialaxis": {
            "gridcolor": "white",
            "linecolor": "white",
            "ticks": ""
           }
          },
          "scene": {
           "xaxis": {
            "backgroundcolor": "#E5ECF6",
            "gridcolor": "white",
            "gridwidth": 2,
            "linecolor": "white",
            "showbackground": true,
            "ticks": "",
            "zerolinecolor": "white"
           },
           "yaxis": {
            "backgroundcolor": "#E5ECF6",
            "gridcolor": "white",
            "gridwidth": 2,
            "linecolor": "white",
            "showbackground": true,
            "ticks": "",
            "zerolinecolor": "white"
           },
           "zaxis": {
            "backgroundcolor": "#E5ECF6",
            "gridcolor": "white",
            "gridwidth": 2,
            "linecolor": "white",
            "showbackground": true,
            "ticks": "",
            "zerolinecolor": "white"
           }
          },
          "shapedefaults": {
           "line": {
            "color": "#2a3f5f"
           }
          },
          "ternary": {
           "aaxis": {
            "gridcolor": "white",
            "linecolor": "white",
            "ticks": ""
           },
           "baxis": {
            "gridcolor": "white",
            "linecolor": "white",
            "ticks": ""
           },
           "bgcolor": "#E5ECF6",
           "caxis": {
            "gridcolor": "white",
            "linecolor": "white",
            "ticks": ""
           }
          },
          "title": {
           "x": 0.05
          },
          "xaxis": {
           "automargin": true,
           "gridcolor": "white",
           "linecolor": "white",
           "ticks": "",
           "title": {
            "standoff": 15
           },
           "zerolinecolor": "white",
           "zerolinewidth": 2
          },
          "yaxis": {
           "automargin": true,
           "gridcolor": "white",
           "linecolor": "white",
           "ticks": "",
           "title": {
            "standoff": 15
           },
           "zerolinecolor": "white",
           "zerolinewidth": 2
          }
         }
        },
        "title": {
         "text": "Number of Trips per Route and Direction"
        },
        "xaxis": {
         "title": {
          "text": "Number of Trips"
         }
        },
        "yaxis": {
         "categoryorder": "total ascending",
         "title": {
          "text": "Route - Direction"
         }
        }
       }
      }
     },
     "metadata": {},
     "output_type": "display_data"
    }
   ],
   "source": [
    "def analyze_transit_operations(trips_df):\n",
    "    \"\"\"Analyze number of trips per route and direction\"\"\"\n",
    "    # Count trips per route and direction\n",
    "    counts = trips_df.groupby(['route_id', 'direction_id'])['trip_id'].count().reset_index()\n",
    "    counts['route_direction'] = counts['route_id'].astype(str) + ' - ' + counts['direction_id'].astype(str)\n",
    "    \n",
    "    # Create interactive bar chart\n",
    "    fig = go.Figure()\n",
    "    fig.add_trace(go.Bar(\n",
    "        x=counts['trip_id'], \n",
    "        y=counts['route_direction'], \n",
    "        orientation='h', \n",
    "        text=counts['trip_id'],\n",
    "        textposition='outside'\n",
    "    ))\n",
    "    \n",
    "    fig.update_layout(\n",
    "        title='Number of Trips per Route and Direction',\n",
    "        xaxis_title='Number of Trips',\n",
    "        yaxis_title='Route - Direction',\n",
    "        yaxis={'categoryorder': 'total ascending'},\n",
    "        height=800\n",
    "    )\n",
    "    \n",
    "    fig.show()\n",
    "    return counts\n",
    "\n",
    "# Analyze transit operations\n",
    "trip_counts = analyze_transit_operations(gtfs['trips'])"
   ]
  },
  {
   "cell_type": "markdown",
   "metadata": {},
   "source": [
    "## 3. Preprocess Route Shapes"
   ]
  },
  {
   "cell_type": "code",
   "execution_count": 4,
   "metadata": {},
   "outputs": [],
   "source": [
    "def preprocess_shapes(shapes_df):\n",
    "    \"\"\"Convert shape points into segments\"\"\"\n",
    "    # Create segments between consecutive shape points\n",
    "    coords = shapes_df[[\"shape_pt_lat\", \"shape_pt_lon\", \"shape_pt_sequence\"]]\n",
    "    coords_roll_1 = np.roll(coords, 1, axis=0)\n",
    "    \n",
    "    segments = pd.DataFrame(\n",
    "        np.concatenate([coords_roll_1, coords], axis=1),\n",
    "        columns=[\"start_lat\", \"start_lng\", \"start_seq\", \"end_lat\", \"end_lng\", \"end_seq\"]\n",
    "    )\n",
    "    \n",
    "    segments_df = shapes_df[[\"shape_id\"]].join(segments)\n",
    "    segments_df = segments_df[segments_df.end_seq != 1]  # Remove artificial segments\n",
    "    segments_df = segments_df.drop(columns=['end_seq']).rename(columns={\"start_seq\": \"seq\"})\n",
    "    \n",
    "    return segments_df\n",
    "\n",
    "# Preprocess shapes\n",
    "segments_df = preprocess_shapes(gtfs['shapes'])"
   ]
  },
  {
   "cell_type": "markdown",
   "metadata": {},
   "source": [
    "## 4. Calculate Segment Utilization"
   ]
  },
  {
   "cell_type": "markdown",
   "metadata": {},
   "source": [
    "- **shape_per_day**: Counts the number of trips per shape (route pattern).\n",
    "- **segment_per_day**: Merges this count onto every segment belonging to that shape, so every segment in a shape gets the total trip count for that shape.\n",
    "- **segment_day_trips**: Groups by segment coordinates and sums the trip counts.\n",
    "\n",
    "If a segment appears in multiple shapes, its trip counts are summed across all shapes it appears in.\n"
   ]
  },
  {
   "cell_type": "code",
   "execution_count": 39,
   "metadata": {},
   "outputs": [
    {
     "data": {
      "image/png": "[encoded data removed]",
      "text/plain": [
       "<Figure size 1000x600 with 1 Axes>"
      ]
     },
     "metadata": {},
     "output_type": "display_data"
    }
   ],
   "source": [
    "def calculate_segment_utilization(trips_df, segments_df):\n",
    "    \"\"\"Calculate daily trip frequency per segment\"\"\"\n",
    "    # Count trips per shape\n",
    "    shape_per_day = trips_df[trips_df['direction_id'] == 1].groupby(['shape_id'])['trip_id'].count().reset_index()\n",
    "    \n",
    "    # Merge with segments\n",
    "    segment_per_day = pd.merge(segments_df, shape_per_day, on=\"shape_id\")\n",
    "    \n",
    "    # Aggregate by segment\n",
    "    segment_day_trips = segment_per_day.groupby(\n",
    "        by=[\"start_lat\", \"start_lng\", \"end_lat\", \"end_lng\"]\n",
    "    ).sum(\"trip_id\").reset_index()\n",
    "    \n",
    "    # Create histogram of trip frequencies\n",
    "    plt.figure(figsize=(10, 6))\n",
    "    segment_day_trips['trip_id'].hist(bins=50)\n",
    "    plt.title('Distribution of Daily Trip Frequencies per Segment')\n",
    "    plt.xlabel('Number of Daily Trips')\n",
    "    plt.ylabel('Segment Count')\n",
    "    plt.savefig(os.path.join(GTFS_DIR, 'segment_trip_distribution.png'))\n",
    "    plt.show()\n",
    "    return segment_day_trips\n",
    "\n",
    "# Calculate segment utilization\n",
    "segment_day_trips = calculate_segment_utilization(gtfs['trips'], segments_df)"
   ]
  },
  {
   "cell_type": "code",
   "execution_count": 6,
   "metadata": {},
   "outputs": [
    {
     "name": "stdout",
     "output_type": "stream",
     "text": [
      "   start_lat  start_lng    end_lat    end_lng    seq  trip_id\n",
      "0  49.899553  19.835309  49.899561  19.835358  221.0       80\n",
      "1  49.899556  19.835255  49.899553  19.835309  220.0       80\n",
      "2  49.899561  19.835358  49.899577  19.835402  222.0       80\n",
      "3  49.899570  19.835204  49.899556  19.835255  219.0       80\n",
      "4  49.899577  19.835402  49.899600  19.835436  223.0       80\n",
      "          start_lat     start_lng       end_lat       end_lng           seq  \\\n",
      "count  54195.000000  54195.000000  54195.000000  54195.000000  54195.000000   \n",
      "mean      50.053147     19.923208     50.053138     19.923241   1024.806071   \n",
      "std        0.065668      0.122874      0.065630      0.122811   1575.463696   \n",
      "min       49.899553     19.583692     49.899553     19.583692      1.000000   \n",
      "25%       50.004684     19.835824     50.004696     19.835834    213.000000   \n",
      "50%       50.055972     19.931807     50.055921     19.931813    514.000000   \n",
      "75%       50.096551     19.999575     50.096540     19.999558   1178.000000   \n",
      "max       50.245430     20.352689     50.245430     20.352689  22690.000000   \n",
      "\n",
      "            trip_id  \n",
      "count  54195.000000  \n",
      "mean     207.647790  \n",
      "std      248.547012  \n",
      "min        2.000000  \n",
      "25%       63.000000  \n",
      "50%      126.000000  \n",
      "75%      254.000000  \n",
      "max     2708.000000  \n",
      "Total segments: 54195\n",
      "       start_lat  start_lng    end_lat    end_lng     seq  trip_id\n",
      "21673  50.031936  19.948258  50.031936  19.948258  6069.0     2708\n",
      "28143  50.059856  19.924994  50.060673  19.924513  7239.0     2218\n",
      "28661  50.062538  19.923692  50.062785  19.923708  7365.0     2218\n",
      "28328  50.060843  19.924419  50.060953  19.924363  7267.0     2218\n",
      "28845  50.063921  19.924099  50.064255  19.924221  7435.0     2218\n",
      "28820  50.063722  19.924022  50.063817  19.924061  7407.0     2218\n",
      "28347  50.060953  19.924363  50.061395  19.924146  7281.0     2218\n",
      "28747  50.063117  19.923789  50.063722  19.924022  7393.0     2218\n",
      "28628  50.062397  19.923709  50.062538  19.923692  7351.0     2218\n",
      "27895  50.059444  19.925240  50.059466  19.925227  7169.0     2218\n"
     ]
    }
   ],
   "source": [
    "print(segment_day_trips.head())\n",
    "print(segment_day_trips.describe())\n",
    "print(\"Total segments:\", len(segment_day_trips))\n",
    "print(segment_day_trips.sort_values('trip_id', ascending=False).head(10))"
   ]
  },
  {
   "cell_type": "code",
   "execution_count": 7,
   "metadata": {},
   "outputs": [
    {
     "name": "stdout",
     "output_type": "stream",
     "text": [
      "Segments with more than 100 trips per day:\n",
      "       start_lat  start_lng    end_lat    end_lng     seq  trip_id\n",
      "21673  50.031936  19.948258  50.031936  19.948258  6069.0     2708\n",
      "27840  50.059359  19.925291  50.059444  19.925240  7155.0     2218\n",
      "28473  50.061682  19.923997  50.062129  19.923779  7309.0     2218\n",
      "27895  50.059444  19.925240  50.059466  19.925227  7169.0     2218\n",
      "27916  50.059466  19.925227  50.059522  19.925193  7183.0     2218\n",
      "...          ...        ...        ...        ...     ...      ...\n",
      "27098  50.055976  19.926876  50.055745  19.927018  2247.0     1559\n",
      "27111  50.056069  19.926830  50.055976  19.926876  2240.0     1559\n",
      "27112  50.056069  19.926830  50.056069  19.926830  2233.0     1559\n",
      "27004  50.055217  19.927429  50.055196  19.927472  2275.0     1559\n",
      "23510  50.039462  19.937322  50.039593  19.937219  3910.0     1544\n",
      "\n",
      "[355 rows x 6 columns]\n"
     ]
    }
   ],
   "source": [
    "# Show segments with more than 100 trips per day\n",
    "busy_segments = segment_day_trips[segment_day_trips['trip_id'] > 1500]\n",
    "print(\"Segments with more than 100 trips per day:\")\n",
    "print(busy_segments.sort_values('trip_id', ascending=False))\n",
    "\n",
    "# Optionally, save to CSV for further analysis\n",
    "busy_segments.to_csv('busy_segments_over_100.csv', index=False)"
   ]
  },
  {
   "cell_type": "markdown",
   "metadata": {},
   "source": [
    "### 4.1 Let's identify the busiest segment and the trips that use it"
   ]
  },
  {
   "cell_type": "code",
   "execution_count": 8,
   "metadata": {},
   "outputs": [
    {
     "name": "stdout",
     "output_type": "stream",
     "text": [
      "start_lat      50.031936\n",
      "start_lng      19.948258\n",
      "end_lat        50.031936\n",
      "end_lng        19.948258\n",
      "seq          6069.000000\n",
      "trip_id      2708.000000\n",
      "Name: 21673, dtype: float64\n"
     ]
    }
   ],
   "source": [
    "# Find the segment with the highest trip count\n",
    "busiest_segment = segment_day_trips.sort_values('trip_id', ascending=False).iloc[0]\n",
    "print(busiest_segment)"
   ]
  },
  {
   "cell_type": "code",
   "execution_count": 9,
   "metadata": {},
   "outputs": [
    {
     "name": "stdout",
     "output_type": "stream",
     "text": [
      "          shape_id  start_lat  start_lng    seq    end_lat    end_lng\n",
      "468978  shape_4027  50.031936  19.948258  735.0  50.031936  19.948258\n",
      "468979  shape_4027  50.031936  19.948258  736.0  50.031936  19.948258\n",
      "471462  shape_4031  50.031936  19.948258  367.0  50.031936  19.948258\n",
      "471463  shape_4031  50.031936  19.948258  368.0  50.031936  19.948258\n",
      "475324  shape_7529  50.031936  19.948258  367.0  50.031936  19.948258\n",
      "475325  shape_7529  50.031936  19.948258  368.0  50.031936  19.948258\n",
      "477479  shape_7534  50.031936  19.948258  735.0  50.031936  19.948258\n",
      "477480  shape_7534  50.031936  19.948258  736.0  50.031936  19.948258\n",
      "506055  shape_4150  50.031936  19.948258  843.0  50.031936  19.948258\n",
      "506056  shape_4150  50.031936  19.948258  844.0  50.031936  19.948258\n",
      "508182  shape_4388  50.031936  19.948258  152.0  50.031936  19.948258\n",
      "508183  shape_4388  50.031936  19.948258  153.0  50.031936  19.948258\n",
      "510770  shape_7582  50.031936  19.948258  152.0  50.031936  19.948258\n",
      "510771  shape_7582  50.031936  19.948258  153.0  50.031936  19.948258\n",
      "512353  shape_7583  50.031936  19.948258  843.0  50.031936  19.948258\n",
      "512354  shape_7583  50.031936  19.948258  844.0  50.031936  19.948258\n",
      "658365  shape_3069  50.031936  19.948258  184.0  50.031936  19.948258\n",
      "658366  shape_3069  50.031936  19.948258  185.0  50.031936  19.948258\n",
      "660313  shape_6550  50.031936  19.948258  184.0  50.031936  19.948258\n",
      "660314  shape_6550  50.031936  19.948258  185.0  50.031936  19.948258\n",
      "679762  shape_3145  50.031936  19.948258  179.0  50.031936  19.948258\n",
      "679763  shape_3145  50.031936  19.948258  180.0  50.031936  19.948258\n",
      "681745  shape_6265  50.031936  19.948258  110.0  50.031936  19.948258\n",
      "681746  shape_6265  50.031936  19.948258  111.0  50.031936  19.948258\n",
      "683193  shape_6660  50.031936  19.948258  110.0  50.031936  19.948258\n",
      "683194  shape_6660  50.031936  19.948258  111.0  50.031936  19.948258\n",
      "687432  shape_3174  50.031936  19.948258  148.0  50.031936  19.948258\n",
      "687433  shape_3174  50.031936  19.948258  149.0  50.031936  19.948258\n",
      "689448  shape_6675  50.031936  19.948258  315.0  50.031936  19.948258\n",
      "689449  shape_6675  50.031936  19.948258  316.0  50.031936  19.948258\n",
      "691590  shape_6844  50.031936  19.948258  315.0  50.031936  19.948258\n",
      "691591  shape_6844  50.031936  19.948258  316.0  50.031936  19.948258\n",
      "705723  shape_3203  50.031936  19.948258  237.0  50.031936  19.948258\n",
      "705724  shape_3203  50.031936  19.948258  238.0  50.031936  19.948258\n",
      "709771  shape_6708  50.031936  19.948258  237.0  50.031936  19.948258\n",
      "709772  shape_6708  50.031936  19.948258  238.0  50.031936  19.948258\n",
      "713081  shape_3215  50.031936  19.948258  223.0  50.031936  19.948258\n",
      "713082  shape_3215  50.031936  19.948258  224.0  50.031936  19.948258\n",
      "723129  shape_3245  50.031936  19.948258  223.0  50.031936  19.948258\n",
      "723130  shape_3245  50.031936  19.948258  224.0  50.031936  19.948258\n",
      "724777  shape_6741  50.031936  19.948258  223.0  50.031936  19.948258\n",
      "724778  shape_6741  50.031936  19.948258  224.0  50.031936  19.948258\n",
      "                           trip_id   route_id  direction_id    shape_id\n",
      "146     block_57_trip_29_service_1  route_602             1  shape_3203\n",
      "148     block_57_trip_31_service_1  route_602             1  shape_3203\n",
      "357     block_143_trip_2_service_1  route_596             1  shape_3145\n",
      "359     block_143_trip_4_service_1  route_596             1  shape_3145\n",
      "361     block_143_trip_8_service_1  route_596             1  shape_3145\n",
      "...                            ...        ...           ...         ...\n",
      "40359  block_2223_trip_7_service_5  route_153             1  shape_4150\n",
      "40361  block_2223_trip_9_service_5  route_153             1  shape_4150\n",
      "40362  block_2224_trip_2_service_5  route_587             1  shape_3069\n",
      "40364  block_2224_trip_4_service_5  route_587             1  shape_3069\n",
      "40366  block_2224_trip_6_service_5  route_153             1  shape_4150\n",
      "\n",
      "[1896 rows x 4 columns]\n"
     ]
    }
   ],
   "source": [
    "# Find all rows in segments_df that match the busiest segment's coordinates\n",
    "mask = (\n",
    "    (segments_df['start_lat'] == busiest_segment['start_lat']) &\n",
    "    (segments_df['start_lng'] == busiest_segment['start_lng']) &\n",
    "    (segments_df['end_lat'] == busiest_segment['end_lat']) &\n",
    "    (segments_df['end_lng'] == busiest_segment['end_lng'])\n",
    ")\n",
    "matching_segments = segments_df[mask]\n",
    "print(matching_segments)\n",
    "\n",
    "# Get all shape_ids for this segment\n",
    "shape_ids = matching_segments['shape_id'].unique()\n",
    "\n",
    "# Find all trips that use these shapes\n",
    "trips_using_segment = gtfs['trips'][gtfs['trips']['shape_id'].isin(shape_ids)]\n",
    "print(trips_using_segment[['trip_id', 'route_id', 'direction_id', 'shape_id']])"
   ]
  },
  {
   "cell_type": "code",
   "execution_count": 33,
   "metadata": {},
   "outputs": [],
   "source": [
    "# Get the 20 busiest segments\n",
    "top_n = 20\n",
    "top_segments = segment_day_trips.sort_values('trip_id', ascending=False).head(top_n)\n",
    "\n",
    "# Center the map on the first segment\n",
    "center_lat = top_segments.iloc[0]['start_lat']\n",
    "center_lng = top_segments.iloc[0]['start_lng']\n",
    "m = folium.Map(location=[center_lat, center_lng], zoom_start=13)\n",
    "\n",
    "# Add each segment as a line\n",
    "for _, row in top_segments.iterrows():\n",
    "    folium.PolyLine(\n",
    "        locations=[\n",
    "            [row['start_lat'], row['start_lng']],\n",
    "            [row['end_lat'], row['end_lng']]\n",
    "        ],\n",
    "        color='red',\n",
    "        weight=6,\n",
    "        popup=f\"Trips per day: {row['trip_id']}\"\n",
    "    ).add_to(m)\n",
    "\n",
    "m.save(os.path.join(GTFS_DIR, 'busiest_segments_top20.html'))"
   ]
  },
  {
   "cell_type": "markdown",
   "metadata": {},
   "source": [
    "## 5. Build Stop Network Graph"
   ]
  },
  {
   "cell_type": "markdown",
   "metadata": {},
   "source": [
    "Let's prepare the visualization function for the graph"
   ]
  },
  {
   "cell_type": "code",
   "execution_count": null,
   "metadata": {},
   "outputs": [],
   "source": [
    "def visualize_stop_network(G, stops_df, filename='gtfs_network_graph.html', max_edges=1000):\n",
    "    \"\"\"Visualize the stop network (nodes and edges) as an interactive Folium map.\"\"\"\n",
    "\n",
    "    # Get node positions\n",
    "    stop_positions = stops_df.set_index('stop_id')[['stop_lat', 'stop_lon']].to_dict('index')\n",
    "    center_lat = stops_df['stop_lat'].mean()\n",
    "    center_lon = stops_df['stop_lon'].mean()\n",
    "    m = folium.Map(location=[center_lat, center_lon], zoom_start=12, tiles='CartoDB positron')\n",
    "\n",
    "    # Draw edges (limit for performance)\n",
    "    for i, (u, v, data) in enumerate(G.edges(data=True)):\n",
    "        if i > max_edges:\n",
    "            break\n",
    "        if u in stop_positions and v in stop_positions:\n",
    "            folium.PolyLine(\n",
    "                locations=[\n",
    "                    [stop_positions[u]['stop_lat'], stop_positions[u]['stop_lon']],\n",
    "                    [stop_positions[v]['stop_lat'], stop_positions[v]['stop_lon']]\n",
    "                ],\n",
    "                color='red', weight=2, opacity=0.5\n",
    "            ).add_to(m)\n",
    "\n",
    "    # Draw nodes\n",
    "    for stop_id, pos in stop_positions.items():\n",
    "        folium.CircleMarker(\n",
    "            location=[pos['stop_lat'], pos['stop_lon']],\n",
    "            radius=3, color='black', fill=True, fill_opacity=0.7\n",
    "        ).add_to(m)\n",
    "\n",
    "    full_path = os.path.join(GTFS_DIR, filename)\n",
    "    m.save(full_path)\n",
    "    print(f\"Stop network map saved as {full_path}\")"
   ]
  },
  {
   "cell_type": "code",
   "execution_count": 43,
   "metadata": {},
   "outputs": [
    {
     "name": "stdout",
     "output_type": "stream",
     "text": [
      "Stop network map saved as results/gtfs_graph/gtfs_network_graph.html\n",
      "Calculating eigenvector centrality...\n",
      "Calculating PageRank...\n",
      "Calculating betweenness centrality...\n",
      "Calculating degree centrality...\n"
     ]
    }
   ],
   "source": [
    "def build_stop_network(stop_times_df, trips_df, stops_df):\n",
    "    \"\"\"Create directed graph of stops\"\"\"\n",
    "    # Merge stop_times with trips to get direction information\n",
    "    stop_times_with_direction = pd.merge(\n",
    "        stop_times_df, \n",
    "        trips_df[['trip_id', 'direction_id']], \n",
    "        on='trip_id'\n",
    "    )\n",
    "    \n",
    "    # Filter for direction_id = 1 and sort stops\n",
    "    direction_1_stop_times = stop_times_with_direction[\n",
    "        stop_times_with_direction['direction_id'] == 1\n",
    "    ].sort_values(['trip_id', 'stop_sequence'])\n",
    "    \n",
    "    # Create edges between consecutive stops\n",
    "    direction_1_stop_times['to_stop'] = direction_1_stop_times.groupby('trip_id')['stop_id'].shift(-1)\n",
    "    edges_df = direction_1_stop_times.dropna(subset=['to_stop'])[['stop_id', 'to_stop']]\n",
    "    edges_df.columns = ['from_stop', 'to_stop']\n",
    "    \n",
    "    # Calculate edge weights\n",
    "    edge_weights = edges_df.groupby(['from_stop', 'to_stop']).size().reset_index(name='weight')\n",
    "    \n",
    "    # Create directed graph\n",
    "    G = nx.DiGraph()\n",
    "    for _, row in edge_weights.iterrows():\n",
    "        G.add_edge(row['from_stop'], row['to_stop'], weight=row['weight'])\n",
    "    visualize_stop_network(G, gtfs['stops'])\n",
    "    # Calculate centrality measures\n",
    "    print(\"Calculating eigenvector centrality...\")\n",
    "    eigen_centrality = nx.eigenvector_centrality(G, weight='weight', max_iter=1000)\n",
    "    \n",
    "    print(\"Calculating PageRank...\")\n",
    "    pagerank = nx.pagerank(G, weight='weight')\n",
    "    \n",
    "    print(\"Calculating betweenness centrality...\")\n",
    "    betweenness_centrality = nx.betweenness_centrality(G, weight='weight')\n",
    "    \n",
    "    print(\"Calculating degree centrality...\")\n",
    "    degree_centrality = nx.degree_centrality(G)\n",
    "    \n",
    "    # Create DataFrames\n",
    "    centrality_dfs = {}\n",
    "    for name, centrality in [('eigen', eigen_centrality), \n",
    "                            ('pagerank', pagerank),\n",
    "                            ('betweenness', betweenness_centrality),\n",
    "                            ('degree', degree_centrality)]:\n",
    "        df = pd.DataFrame.from_dict(centrality, orient='index', columns=[name]).reset_index()\n",
    "        df.columns = ['stop_id', name]\n",
    "        df = pd.merge(df, stops_df[['stop_id', 'stop_name', 'stop_lat', 'stop_lon']], on='stop_id')\n",
    "        centrality_dfs[name] = df\n",
    "    \n",
    "    return centrality_dfs\n",
    "\n",
    "# Build stop network\n",
    "centrality_dfs = build_stop_network(gtfs['stop_times'], gtfs['trips'], gtfs['stops'])"
   ]
  },
  {
   "cell_type": "code",
   "execution_count": 13,
   "metadata": {},
   "outputs": [
    {
     "name": "stdout",
     "output_type": "stream",
     "text": [
      "Top Eigenvector Centrality Stops:\n",
      "               stop_id     eigen              stop_name   stop_lat   stop_lon\n",
      "203   stop_1089_260807  0.489462  Dworzec Główny Zachód  50.067783  19.945273\n",
      "41        stop_51_7306  0.450395           Politechnika  50.071279  19.944103\n",
      "619       stop_50_7103  0.274897           Nowy Kleparz  50.073617  19.937271\n",
      "1646  stop_1089_260809  0.247543  Dworzec Główny Zachód  50.067204  19.944498\n",
      "706       stop_55_7903  0.189571         Plac Inwalidów  50.069381  19.926953\n",
      "\n",
      "Top PageRank Stops:\n",
      "               stop_id  pagerank            stop_name   stop_lat   stop_lon\n",
      "8     stop_1654_314104  0.002773      Muzeum Narodowe  50.058644  19.925202\n",
      "769     stop_532_74902  0.002575       Góra Borkowska  50.007410  19.925282\n",
      "1457    stop_530_74704  0.002422        Borek Fałęcki  50.011291  19.926720\n",
      "375        stop_7_1203  0.002408  Rondo Ofiar Katynia  50.086632  19.891059\n",
      "1677    stop_540_75802  0.002225               Judyma  50.002402  19.922612\n",
      "\n",
      "Top Betweenness Centrality Stops:\n",
      "               stop_id  betweenness              stop_name   stop_lat  \\\n",
      "203   stop_1089_260807     0.207723  Dworzec Główny Zachód  50.067783   \n",
      "905   stop_1921_324201     0.170448      Teatr Słowackiego  50.064639   \n",
      "1268    stop_261_35807     0.164529            Starowiślna  50.056722   \n",
      "1269    stop_260_35704     0.144126          Poczta Główna  50.059311   \n",
      "909   stop_1921_324203     0.143924      Teatr Słowackiego  50.064008   \n",
      "\n",
      "       stop_lon  \n",
      "203   19.945273  \n",
      "905   19.945657  \n",
      "1268  19.946044  \n",
      "1269  19.942837  \n",
      "909   19.945092  \n",
      "\n",
      "Top Degree Centrality Stops:\n",
      "               stop_id    degree           stop_name   stop_lat   stop_lon\n",
      "82    stop_2309_345906  0.004109       Bronowice SKA  50.080823  19.890659\n",
      "158   stop_1068_258602  0.004109     Jerzmanowskiego  50.010637  20.008024\n",
      "716      stop_81_11002  0.003595            Wiślicka  50.087576  20.002118\n",
      "1027  stop_2108_333803  0.003595  Rondo Grunwaldzkie  50.048252  19.932344\n",
      "846      stop_72_10001  0.003595    Prądnik Czerwony  50.096538  19.973766\n"
     ]
    }
   ],
   "source": [
    "\n",
    "# Display top central stops\n",
    "print(\"Top Eigenvector Centrality Stops:\")\n",
    "print(centrality_dfs['eigen'].sort_values('eigen', ascending=False).head(5))\n",
    "\n",
    "print(\"\\nTop PageRank Stops:\")\n",
    "print(centrality_dfs['pagerank'].sort_values('pagerank', ascending=False).head(5))\n",
    "\n",
    "print(\"\\nTop Betweenness Centrality Stops:\")\n",
    "print(centrality_dfs['betweenness'].sort_values('betweenness', ascending=False).head(5))\n",
    "\n",
    "print(\"\\nTop Degree Centrality Stops:\")\n",
    "print(centrality_dfs['degree'].sort_values('degree', ascending=False).head(5))"
   ]
  },
  {
   "cell_type": "markdown",
   "metadata": {},
   "source": [
    "## 6. Visualize Central Stops"
   ]
  },
  {
   "cell_type": "code",
   "execution_count": 44,
   "metadata": {},
   "outputs": [],
   "source": [
    "def visualize_central_stops(centrality_df, centrality_type, title):\n",
    "    \"\"\"Create interactive map of stops with centrality\"\"\"\n",
    "    # Normalize centrality for visualization\n",
    "    centrality_df['normalized'] = centrality_df[centrality_type] / centrality_df[centrality_type].max()\n",
    "    \n",
    "    # Create map with a lighter background\n",
    "    center_lat = centrality_df['stop_lat'].mean()\n",
    "    center_lon = centrality_df['stop_lon'].mean()\n",
    "    m = folium.Map(location=[center_lat, center_lon], zoom_start=12, tiles='CartoDB positron')\n",
    "    \n",
    "    # Add stops\n",
    "    for idx, row in centrality_df.iterrows():\n",
    "        radius = 5 + (row['normalized'] * 30)\n",
    "        color = f'#{int(255 * row[\"normalized\"]):02x}0000'\n",
    "        \n",
    "        folium.CircleMarker(\n",
    "            location=[row['stop_lat'], row['stop_lon']],\n",
    "            radius=radius,\n",
    "            color=color,\n",
    "            fill=True,\n",
    "            fill_opacity=0.7,\n",
    "            popup=f\"{row['stop_name']}<br>{centrality_type}: {row[centrality_type]:.4f}\"\n",
    "        ).add_to(m)\n",
    "    \n",
    "    # Add title\n",
    "    title_html = f'''\n",
    "        <h3 align=\"center\" style=\"font-size:16px\"><b>{title}</b></h3>\n",
    "        '''\n",
    "    m.get_root().html.add_child(folium.Element(title_html))\n",
    "    \n",
    "    return m\n",
    "\n",
    "# Visualize different centrality measures\n",
    "eigen_map = visualize_central_stops(\n",
    "    centrality_dfs['eigen'], \n",
    "    'eigen', \n",
    "    'Eigenvector Centrality - Influence in Well-connected Clusters'\n",
    ")\n",
    "\n",
    "eigen_map.save(os.path.join(GTFS_DIR,'eigen_centrality.html'))\n",
    "\n",
    "pagerank_map = visualize_central_stops(\n",
    "    centrality_dfs['pagerank'], \n",
    "    'pagerank', \n",
    "    'PageRank - High-traffic Transit Points'\n",
    ")\n",
    "pagerank_map.save(os.path.join(GTFS_DIR,'pagerank.html'))\n",
    "\n",
    "\n",
    "betweenness_map = visualize_central_stops(\n",
    "    centrality_dfs['betweenness'], \n",
    "    'betweenness', \n",
    "    'Betweenness Centrality - Key Transfer Points'\n",
    ")\n",
    "betweenness_map.save(os.path.join(GTFS_DIR,'betweenness_centrality.html'))\n",
    "\n",
    "degree_map = visualize_central_stops(\n",
    "    centrality_dfs['degree'], \n",
    "    'degree', \n",
    "    'Degree Centrality - Most Connected Stops'\n",
    ")\n",
    "degree_map.save(os.path.join(GTFS_DIR,'degree_centrality.html'))"
   ]
  },
  {
   "cell_type": "markdown",
   "metadata": {},
   "source": [
    "## 7. Integrate OSM Street Data"
   ]
  },
  {
   "cell_type": "code",
   "execution_count": 15,
   "metadata": {},
   "outputs": [
    {
     "name": "stdout",
     "output_type": "stream",
     "text": [
      "Downloading OSM data for Kraków, Poland...\n",
      "OSM data downloaded: 9620 nodes, 21168 edges\n"
     ]
    }
   ],
   "source": [
    "def integrate_osm_data(place=\"Kraków, Poland\"):\n",
    "    \"\"\"Download and prepare OSM street data\"\"\"\n",
    "    print(f\"Downloading OSM data for {place}...\")\n",
    "    # Get the street network\n",
    "    G = ox.graph_from_place(place, network_type='drive', simplify=True)\n",
    "    \n",
    "    # Convert to GeoDataFrames\n",
    "    nodes, edges = ox.graph_to_gdfs(G)\n",
    "    \n",
    "    print(f\"OSM data downloaded: {len(nodes)} nodes, {len(edges)} edges\")\n",
    "    return G, nodes, edges\n",
    "\n",
    "# Integrate OSM data\n",
    "krk_streets, osm_nodes, osm_edges = integrate_osm_data()"
   ]
  },
  {
   "cell_type": "code",
   "execution_count": null,
   "metadata": {},
   "outputs": [],
   "source": [
    "def visualize_osm_streets(osm_nodes, osm_edges, filename='krakow_osm_streets.html'):\n",
    "    \"\"\"Visualize OSM street network as an interactive Folium map.\"\"\"\n",
    "    import folium\n",
    "\n",
    "    center_lat = osm_nodes['y'].mean()\n",
    "    center_lon = osm_nodes['x'].mean()\n",
    "    m = folium.Map(location=[center_lat, center_lon], zoom_start=12)\n",
    "\n",
    "    for _, row in osm_edges.iterrows():\n",
    "        if row['geometry'].geom_type == 'LineString':\n",
    "            folium.PolyLine(\n",
    "                locations=[(lat, lon) for lon, lat in row['geometry'].coords],\n",
    "                color='blue', weight=2, opacity=0.5\n",
    "            ).add_to(m)\n",
    "        elif row['geometry'].geom_type == 'MultiLineString':\n",
    "            for linestring in row['geometry']:\n",
    "                folium.PolyLine(\n",
    "                    locations=[(lat, lon) for lon, lat in linestring.coords],\n",
    "                    color='blue', weight=2, opacity=0.5\n",
    "                ).add_to(m)\n",
    "    m.save(filename)\n",
    "    print(f\"Interactive map saved as {filename}\")\n",
    "\n",
    "visualize_osm_streets(osm_nodes, osm_edges)\n"
   ]
  },
  {
   "cell_type": "markdown",
   "metadata": {},
   "source": [
    "## 8. Create Multimodal Network"
   ]
  },
  {
   "cell_type": "code",
   "execution_count": 22,
   "metadata": {},
   "outputs": [
    {
     "name": "stdout",
     "output_type": "stream",
     "text": [
      "Integrated network created: 54224 nodes, 75207 edges\n",
      "Merged network: 8839 nodes, 22308 edges\n"
     ]
    }
   ],
   "source": [
    "def create_multimodal_network(krk_streets, segment_day_trips, merge_close_nodes=False, distance_threshold=0.0002):\n",
    "    \"\"\"Combine OSM street network with GTFS bus segments, with optional merging of close nodes\"\"\"\n",
    "    integrated = nx.DiGraph()\n",
    "    \n",
    "    # Add OSM nodes\n",
    "    for node, data in krk_streets.nodes(data=True):\n",
    "        integrated.add_node(f'[ROAD]{node}', **data)\n",
    "    \n",
    "    # Add OSM edges\n",
    "    for u, v, data in krk_streets.edges(data=True):\n",
    "        if 'geometry' in data:\n",
    "            geometry = data['geometry']\n",
    "        else:\n",
    "            start = Point(krk_streets.nodes[u]['x'], krk_streets.nodes[u]['y'])\n",
    "            end = Point(krk_streets.nodes[v]['x'], krk_streets.nodes[v]['y'])\n",
    "            geometry = LineString([start, end])\n",
    "        highway = data.get('highway', 'unknown')\n",
    "        if isinstance(highway, list):\n",
    "            highway = highway[0]\n",
    "        integrated.add_edge(\n",
    "            f'[ROAD]{u}', \n",
    "            f'[ROAD]{v}', \n",
    "            road_size=highway, \n",
    "            geometry=geometry, \n",
    "            length=data.get('length', 0),\n",
    "            type='road'\n",
    "        )\n",
    "    \n",
    "    # Add GTFS bus segments\n",
    "    for _, row in segment_day_trips.iterrows():\n",
    "        start_node = f'[BUS]{row.start_lng},{row.start_lat}'\n",
    "        end_node = f'[BUS]{row.end_lng},{row.end_lat}'\n",
    "        start = Point(row.start_lng, row.start_lat)\n",
    "        end = Point(row.end_lng, row.end_lat)\n",
    "        geometry = LineString([start, end])\n",
    "        integrated.add_node(start_node, x=row.start_lng, y=row.start_lat)\n",
    "        integrated.add_node(end_node, x=row.end_lng, y=row.end_lat)\n",
    "        integrated.add_edge(\n",
    "            start_node, \n",
    "            end_node, \n",
    "            road_size='bus', \n",
    "            geometry=geometry, \n",
    "            type='bus', \n",
    "            arrivals=row['trip_id']\n",
    "        )\n",
    "    \n",
    "    print(f\"Integrated network created: {integrated.number_of_nodes()} nodes, {integrated.number_of_edges()} edges\")\n",
    "    \n",
    "    if merge_close_nodes:\n",
    "        # Merge nodes that are spatially close\n",
    "        # Extract coordinates and node names\n",
    "        node_coords = []\n",
    "        node_names = []\n",
    "        for node, data in integrated.nodes(data=True):\n",
    "            if 'x' in data and 'y' in data:\n",
    "                node_coords.append([data['x'], data['y']])\n",
    "                node_names.append(node)\n",
    "        coords = np.array(node_coords)\n",
    "        tree = cKDTree(coords)\n",
    "        pairs = tree.query_pairs(distance_threshold)\n",
    "        \n",
    "        # Union-Find for merging\n",
    "        groups = nx.utils.union_find.UnionFind()\n",
    "        for i, j in pairs:\n",
    "            groups.union(node_names[i], node_names[j])\n",
    "        \n",
    "        # Build merged graph\n",
    "        merged = nx.DiGraph()\n",
    "        for node, data in integrated.nodes(data=True):\n",
    "            rep = groups[node]\n",
    "            if rep not in merged:\n",
    "                merged.add_node(rep, **data)\n",
    "        for u, v, data in integrated.edges(data=True):\n",
    "            rep_u = groups[u]\n",
    "            rep_v = groups[v]\n",
    "            merged.add_edge(rep_u, rep_v, **data)\n",
    "        print(f\"Merged network: {merged.number_of_nodes()} nodes, {merged.number_of_edges()} edges\")\n",
    "        return merged\n",
    "\n",
    "    return integrated\n",
    "\n",
    "# Example usage:\n",
    "integrated_network = create_multimodal_network(krk_streets, segment_day_trips, merge_close_nodes=True, distance_threshold=0.0005)"
   ]
  },
  {
   "cell_type": "markdown",
   "metadata": {},
   "source": [
    "## 9. Assign Flow Capacities"
   ]
  },
  {
   "cell_type": "code",
   "execution_count": null,
   "metadata": {},
   "outputs": [
    {
     "name": "stdout",
     "output_type": "stream",
     "text": [
      "Flow capacities assigned to all edges\n"
     ]
    }
   ],
   "source": [
    "def assign_flow_capacities(integrated_network):\n",
    "    \"\"\"Assign flow capacities based on road type and bus frequency\"\"\"\n",
    "    # Capacity definitions (vehicles/day)\n",
    "    capacity = {\n",
    "        \"motorway\": 180_000,\n",
    "        \"trunk\": 138_000,\n",
    "        \"primary\": 53_000,\n",
    "        \"secondary\": 23_000,\n",
    "        \"tertiary\": 5_300,\n",
    "        \"unclassified\": 12_300,\n",
    "        \"residential\": 4_000,\n",
    "        \"service\": 750,\n",
    "        \"living_street\": 1000,\n",
    "        \n",
    "        \"motorway_link\": 36_000,\n",
    "        \"trunk_link\": 27_600,\n",
    "        \"primary_link\": 10_600,\n",
    "        \"secondary_link\": 4_600,\n",
    "        \"tertiary_link\": 1_060,\n",
    "        \"bus\": None  # Special handling\n",
    "    }\n",
    "    \n",
    "    # Assign capacities\n",
    "    for u, v, data in integrated_network.edges(data=True):\n",
    "        if data['type'] == 'bus':\n",
    "            # Bus capacity = trips × assumed capacity per bus\n",
    "            data['flow_capacity'] = data.get('arrivals', 0) * 50\n",
    "        elif data['type'] == 'road' and data['road_size'] in capacity:\n",
    "            data['flow_capacity'] = capacity[data['road_size']]\n",
    "        else:\n",
    "            data['flow_capacity'] = 1_000  # Default capacity\n",
    "    \n",
    "    print(\"Flow capacities assigned to all edges\")\n",
    "    return integrated_network\n",
    "\n",
    "# Assign capacities\n",
    "integrated_network = assign_flow_capacities(integrated_network)"
   ]
  },
  {
   "cell_type": "markdown",
   "metadata": {},
   "source": [
    "## 10. Analyze Multimodal Centrality"
   ]
  },
  {
   "cell_type": "markdown",
   "metadata": {},
   "source": [
    "We want to analyze the whole urban mobility system (cars + buses):\n",
    "\n",
    "We are using the multimodal (integrated) network (integrated_network), where nodes are both road intersections and bus segment endpoints, and edges are both roads and bus routes.\n",
    "This is essential for understanding how public transport and road infrastructure interact, and for identifying critical points in the entire transport system."
   ]
  },
  {
   "cell_type": "code",
   "execution_count": 20,
   "metadata": {},
   "outputs": [
    {
     "ename": "NameError",
     "evalue": "name 'integrated_network' is not defined",
     "output_type": "error",
     "traceback": [
      "\u001b[0;31m---------------------------------------------------------------------------\u001b[0m",
      "\u001b[0;31mNameError\u001b[0m                                 Traceback (most recent call last)",
      "Cell \u001b[0;32mIn[20], line 32\u001b[0m\n\u001b[1;32m     29\u001b[0m     \u001b[38;5;28;01mreturn\u001b[39;00m centrality_dfs\n\u001b[1;32m     31\u001b[0m \u001b[38;5;66;03m# Analyze multimodal centrality\u001b[39;00m\n\u001b[0;32m---> 32\u001b[0m multimodal_centrality \u001b[38;5;241m=\u001b[39m analyze_multimodal_centrality(\u001b[43mintegrated_network\u001b[49m)\n",
      "\u001b[0;31mNameError\u001b[0m: name 'integrated_network' is not defined"
     ]
    }
   ],
   "source": [
    "def analyze_multimodal_centrality(integrated_network):\n",
    "    \"\"\"Calculate centrality metrics on the multimodal network\"\"\"\n",
    "    print(\"Calculating eigenvector centrality for multimodal network...\")\n",
    "    eigen_centrality = nx.eigenvector_centrality(integrated_network, weight='flow_capacity', max_iter=1000)\n",
    "    \n",
    "    print(\"Calculating PageRank for multimodal network...\")\n",
    "    pagerank = nx.pagerank(integrated_network, weight='flow_capacity')\n",
    "    \n",
    "    print(\"Calculating betweenness centrality for multimodal network...\")\n",
    "    betweenness_centrality = nx.betweenness_centrality(integrated_network, weight='flow_capacity')\n",
    "\n",
    "    print(\"Calculating degree centrality for multimodal network...\")\n",
    "    degree_centrality = nx.degree_centrality(integrated_network)\n",
    "    \n",
    "    # Prepare results\n",
    "    centrality_measures = {\n",
    "        'eigen': eigen_centrality,\n",
    "        'pagerank': pagerank,\n",
    "        'betweenness': betweenness_centrality,\n",
    "        'degree': degree_centrality\n",
    "    }\n",
    "    \n",
    "    # Create DataFrames\n",
    "    centrality_dfs = {}\n",
    "    for name, measure in centrality_measures.items():\n",
    "        df = pd.DataFrame.from_dict(measure, orient='index', columns=[name])\n",
    "        centrality_dfs[name] = df\n",
    "    \n",
    "    return centrality_dfs\n",
    "\n",
    "# Analyze multimodal centrality\n",
    "multimodal_centrality = analyze_multimodal_centrality(integrated_network)"
   ]
  },
  {
   "cell_type": "code",
   "execution_count": null,
   "metadata": {},
   "outputs": [],
   "source": [
    "import pickle\n",
    "\n",
    "# Save graph\n",
    "with open('integrated_network.pkl', 'wb') as f:\n",
    "    pickle.dump(integrated_network, f)\n",
    "\n",
    "# Load graph\n",
    "with open('integrated_network.pkl', 'rb') as f:\n",
    "    integrated_network = pickle.load(f)"
   ]
  },
  {
   "cell_type": "markdown",
   "metadata": {},
   "source": [
    "## 11. Visualize Multimodal Network"
   ]
  },
  {
   "cell_type": "code",
   "execution_count": null,
   "metadata": {},
   "outputs": [],
   "source": [
    "def visualize_multimodal_network(integrated_network, centrality_type='eigen'):\n",
    "    \"\"\"Create interactive visualization of multimodal network\"\"\"\n",
    "    # Create base map\n",
    "    center_lat = 50.0614\n",
    "    center_lon = 19.9372\n",
    "    m = folium.Map(location=[center_lat, center_lon], zoom_start=12)\n",
    "    \n",
    "    # Color scheme for road types\n",
    "    road_colors = {\n",
    "        'motorway': '#FF0000',\n",
    "        'trunk': '#FF4500',\n",
    "        'primary': '#FFA500',\n",
    "        'secondary': '#FFD700',\n",
    "        'tertiary': '#FFFF00',\n",
    "        'unclassified': '#ADFF2F',\n",
    "        'residential': '#7CFC00',\n",
    "        'service': '#98FB98',\n",
    "        'living_street': '#90EE90',\n",
    "        'bus': '#0000FF',\n",
    "        'unknown': '#A9A9A9'\n",
    "    }\n",
    "    \n",
    "    # Get centrality values\n",
    "    centrality = multimodal_centrality[centrality_type]\n",
    "    min_centrality = centrality.min()[0]\n",
    "    max_centrality = centrality.max()[0]\n",
    "    \n",
    "    # Function to normalize centrality\n",
    "    def normalize_centrality(val):\n",
    "        return (val - min_centrality) / (max_centrality - min_centrality)\n",
    "    \n",
    "    # Add edges to map\n",
    "    for u, v, data in integrated_network.edges(data=True):\n",
    "        # Get coordinates\n",
    "        u_node = integrated_network.nodes[u]\n",
    "        v_node = integrated_network.nodes[v]\n",
    "        \n",
    "        # Determine color\n",
    "        if data['type'] == 'road':\n",
    "            road_type = data.get('road_size', 'unknown')\n",
    "            color = road_colors.get(road_type, road_colors['unknown'])\n",
    "        else:\n",
    "            color = road_colors['bus']\n",
    "        \n",
    "        # Get centrality (average of start and end nodes)\n",
    "        u_centrality = centrality.loc[u][0] if u in centrality.index else min_centrality\n",
    "        v_centrality = centrality.loc[v][0] if v in centrality.index else min_centrality\n",
    "        avg_centrality = (u_centrality + v_centrality) / 2\n",
    "        \n",
    "        # Set weight based on centrality\n",
    "        weight = 1 + 5 * normalize_centrality(avg_centrality)\n",
    "        \n",
    "        # Create polyline\n",
    "        folium.PolyLine(\n",
    "            locations=[[u_node['y'], u_node['x']], [v_node['y'], v_node['x']]],\n",
    "            color=color,\n",
    "            weight=weight,\n",
    "            opacity=0.7,\n",
    "            popup=f\"Type: {data.get('road_size', 'bus')}<br>Capacity: {data.get('flow_capacity', 'N/A')}\"\n",
    "        ).add_to(m)\n",
    "    \n",
    "    # Add legend\n",
    "    legend_html = '''\n",
    "    <div style=\"position: fixed; bottom: 50px; left: 50px; width: 250px; height: 380px; \n",
    "         border:2px solid grey; z-index:9999; font-size:14px;\n",
    "         background-color:white; padding:10px;\">\n",
    "         <b>Network Legend</b><br>\n",
    "         <div style=\"margin-top:10px;\"><b>Road Types:</b></div>\n",
    "    '''\n",
    "    \n",
    "    for road_type, color in road_colors.items():\n",
    "        legend_html += f'<i style=\"background:{color}; width:20px; height:20px; display:inline-block;\"></i> {road_type}<br>'\n",
    "    \n",
    "    legend_html += '''\n",
    "    <div style=\"margin-top:20px;\"><b>Line Thickness:</b><br>\n",
    "        <span style=\"border-bottom: 1px solid black; width: 20px; display: inline-block;\">&nbsp;</span> Low centrality<br>\n",
    "        <span style=\"border-bottom: 6px solid black; width: 20px; display: inline-block;\">&nbsp;</span> High centrality\n",
    "    </div>\n",
    "    </div>\n",
    "    '''\n",
    "    \n",
    "    m.get_root().html.add_child(folium.Element(legend_html))\n",
    "    \n",
    "    # Add title\n",
    "    title_html = f'''\n",
    "        <h3 align=\"center\" style=\"font-size:16px\"><b>Krakow Multimodal Network - {centrality_type.capitalize()} Centrality</b></h3>\n",
    "        '''\n",
    "    m.get_root().html.add_child(folium.Element(title_html))\n",
    "    \n",
    "    return m\n",
    "\n",
    "# Visualize multimodal network\n",
    "multimodal_map = visualize_multimodal_network(integrated_network, 'eigen')\n",
    "multimodal_map.save('multimodal_network.html')"
   ]
  },
  {
   "cell_type": "markdown",
   "metadata": {},
   "source": [
    "## 12. Critical Node Analysis"
   ]
  },
  {
   "cell_type": "code",
   "execution_count": null,
   "metadata": {},
   "outputs": [],
   "source": [
    "def analyze_critical_nodes(multimodal_centrality, integrated_network):\n",
    "    \"\"\"Identify and analyze critical nodes in the multimodal network\"\"\"\n",
    "    # Combine centrality measures\n",
    "    centrality_df = multimodal_centrality['eigen'].rename(columns={'eigen': 'eigenvector'})\n",
    "    centrality_df = centrality_df.join(multimodal_centrality['pagerank'])\n",
    "    centrality_df = centrality_df.join(multimodal_centrality['betweenness'])\n",
    "    centrality_df = centrality_df.join(multimodal_centrality['degree'])\n",
    "    \n",
    "    # Normalize centrality scores\n",
    "    for col in centrality_df.columns:\n",
    "        centrality_df[f'{col}_norm'] = (\n",
    "            centrality_df[col] - centrality_df[col].min()\n",
    "        ) / (centrality_df[col].max() - centrality_df[col].min())\n",
    "    \n",
    "    # Create composite score\n",
    "    centrality_df['composite_score'] = centrality_df[[f'{col}_norm' for col in centrality_df.columns[:4]]].mean(axis=1)\n",
    "    \n",
    "    # Get top 10 critical nodes\n",
    "    critical_nodes = centrality_df.sort_values('composite_score', ascending=False).head(10)\n",
    "    \n",
    "    # Visualize\n",
    "    plt.figure(figsize=(12, 8))\n",
    "    critical_nodes[['eigenvector', 'pagerank', 'betweenness', 'degree']].plot(kind='bar')\n",
    "    plt.title('Top 10 Critical Nodes by Centrality Measures')\n",
    "    plt.ylabel('Centrality Score')\n",
    "    plt.xlabel('Node ID')\n",
    "    plt.xticks(rotation=45)\n",
    "    plt.legend(title='Centrality Type')\n",
    "    plt.tight_layout()\n",
    "    plt.show()\n",
    "    \n",
    "    # Analyze node types\n",
    "    node_types = []\n",
    "    for node in critical_nodes.index:\n",
    "        if '[ROAD]' in node:\n",
    "            node_types.append('Road Intersection')\n",
    "        elif '[BUS]' in node:\n",
    "            node_types.append('Bus Stop')\n",
    "        else:\n",
    "            node_types.append('Unknown')\n",
    "    \n",
    "    critical_nodes['type'] = node_types\n",
    "    \n",
    "    # Print insights\n",
    "    print(\"\\nCritical Node Types:\")\n",
    "    print(critical_nodes['type'].value_counts())\n",
    "    \n",
    "    print(\"\\nTop Critical Nodes:\")\n",
    "    print(critical_nodes.head())\n",
    "    \n",
    "    return critical_nodes\n",
    "\n",
    "# Analyze critical nodes\n",
    "critical_nodes = analyze_critical_nodes(multimodal_centrality, integrated_network)"
   ]
  },
  {
   "cell_type": "markdown",
   "metadata": {},
   "source": [
    "## 13. Policy Recommendations"
   ]
  },
  {
   "cell_type": "code",
   "execution_count": null,
   "metadata": {},
   "outputs": [],
   "source": [
    "def generate_policy_recommendations(critical_nodes):\n",
    "    \"\"\"Generate policy recommendations based on critical nodes\"\"\"\n",
    "    print(\"Policy Recommendations Based on Critical Node Analysis:\")\n",
    "    \n",
    "    # Recommendation framework\n",
    "    recommendations = {\n",
    "        \"Road Intersection\": [\n",
    "            \"Implement intelligent traffic light sequencing\",\n",
    "            \"Add dedicated turning lanes\",\n",
    "            \"Consider grade separation solutions\",\n",
    "            \"Improve pedestrian crossing infrastructure\"\n",
    "        ],\n",
    "        \"Bus Stop\": [\n",
    "            \"Expand platform capacity\",\n",
    "            \"Implement real-time arrival information\",\n",
    "            \"Improve pedestrian access routes\",\n",
    "            \"Add weather protection features\",\n",
    "            \"Create dedicated bus lanes approaching the stop\"\n",
    "        ]\n",
    "    }\n",
    "    \n",
    "    # Generate recommendations for top nodes\n",
    "    for i, (node, data) in enumerate(critical_nodes.head(3).iterrows(), 1):\n",
    "        node_type = data['type']\n",
    "        \n",
    "        print(f\"\\nRecommendations for Node #{i} ({node_type}):\")\n",
    "        print(f\"- Composite Criticality Score: {data['composite_score']:.3f}\")\n",
    "        \n",
    "        for rec in recommendations[node_type]:\n",
    "            print(f\"- {rec}\")\n",
    "    \n",
    "    # System-wide recommendations\n",
    "    print(\"\"\"\\nSystem-wide Recommendations:\n",
    "- Create redundancy for critical corridors\n",
    "- Develop congestion pricing for high-centrality zones\n",
    "- Prioritize maintenance on critical infrastructure\n",
    "- Implement real-time monitoring for critical nodes\"\"\")\n",
    "\n",
    "# Generate recommendations\n",
    "generate_policy_recommendations(critical_nodes)"
   ]
  }
 ],
 "metadata": {
  "kernelspec": {
   "display_name": "datascience",
   "language": "python",
   "name": "python3"
  },
  "language_info": {
   "codemirror_mode": {
    "name": "ipython",
    "version": 3
   },
   "file_extension": ".py",
   "mimetype": "text/x-python",
   "name": "python",
   "nbconvert_exporter": "python",
   "pygments_lexer": "ipython3",
   "version": "3.10.17"
  }
 },
 "nbformat": 4,
 "nbformat_minor": 4
}
